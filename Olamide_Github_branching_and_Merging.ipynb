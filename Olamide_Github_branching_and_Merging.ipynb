{
 "cells": [
  {
   "attachments": {},
   "cell_type": "markdown",
   "id": "a57c5f68",
   "metadata": {},
   "source": [
    "#### 1.  Create a New Repository on Github\n",
    " A new repository was created by me (xrander) <br>\n",
    "\n",
    "#### 2. Add a collaborator to your repository <br>\n",
    "I added two collaborators @harini and @shakiba\n",
    "\n",
    "#### 3. Each member make their own branch and create a random file and work on it <br>\n",
    "- A new branch hotfix was created\n",
    "- A new file olamide.txt was added to the branch\n",
    "- The new file was edited\n",
    "<img src ='https://lh3.googleusercontent.com/SoRVwuREe7MJpxadZhnLE4_NYfDRMjKfZm_Ks1szKd9Urbz_IUMHGwih0umL6DPVyQ2NksqzcX389emgvPWt5dJ987pHdGPOEipui-jRCIol-o7DFqWenkTTvsmwY6CgKV0isSp1vAzx6xkK-XfRBWChCtL7FHRHHtrX9kjyWkBx1qq8kAH7fZ-iqHyE739dYOELlT0wnyrAY_XERilgi-NGWxBzdyEUpePPD_OLoou9CqjJvXsdF_TcLAd3BLg_koniL5WL8msBJyXtkAxBrtp1NhO4nr3oadK0VIubq_UkrloBZ8d3_2jlFbq1QOsDGWjxM5Zx2OCLV5wJAXftt14ulgU8lb3E7AISbRGfcWr-ZdyEh8lfI_nKtaQJ8wHCykj_QoFC2lQk_CrBanY1s1IxVvKfF9fxg4CORBXljxSvtWkKb_N_OH8lnYDDvsepn8r_T53cwgCr3uHEB6L_J9vnoip97VME9hZXEt9WvS_jGER-kn52H8jKI8CAqHWNZ_AVQW44agz7zPgTQTLd0yQmxGIyMPXUQrZC-zrD9WKieJRhmkJv4lrLM2YmCBIQ7RYGXV9wmoopk5sHFxICkRiNwmV1TvDXcAu84r_JIaKvCI9ch3Fl45NgE6BurcZGrXDsuRVIiU0VT64sobDCcbxYxNJjYRFso3J6hCQXtC-yuSqdmmQimJh7naHughvVVw0Jkz_iL_5GNT6RphI27tQ=w742-h331-no?authuser=0'\n",
    "     width = 800>\n",
    "\n",
    "#### 4. Try to merge the brach to the master by each member <br>\n",
    "The hotfix branch was merge into the master and was pushed to the remote repository\n",
    "<img src = 'https://lh3.googleusercontent.com/NBVrZRfVsx5CCzr6Y43xtDfKWd4hnB0-UEQb81x09TUOq-7pIcUQU0LME6EqkbvulHhVuTXN8Ahz-4ZTxjxkP16vlDGzsuw6XhO9eH0s9s7oKJmF4dHndbx4cs_Wy8vu1mHdaAsBWVQmMSPtowUNCO25JPPCJRzKyOeTlrEWzPQc5Ps1k9iDsMCSnlnLY2ulxDnj71umsF8UzFniQrmvonM4Uz_1j7_pdAeLA_z2C3a14AUt0hyPqOKAxJJPOVZ7TD8o-gzgaNeYYOl_t7Oi53EglOPsUsbAVJJC6TGx4d7uZoQ-kIx3DYk4b3HWJg_C5bcmP_Nwh3YctIe3P9HQNerF_lslnMpHo6FMtdZhRJBot6VGcPZDMS5mPk9KLfFmG50MHGdfBLB4Knrqj1fiSUjOXApKPY-Co76jBxK46mHpikYYxS7auhs9itz4hBhHRTd5Nk7rn7Ae12cdZsEHevruL9nQjdWPPR9LtZqNrLvWEGPBpN0lDrJg9zrjcpKQungwSSE_AQpozK8pafm3Awu9nEp9hOYtU0kBlZhmoknFlSBFZpGypMPtvg-q79eUk24kdY38Iox3nOqC2pbVhJuEApZGUSGmXzzzHl0SNklP8KnGRI_JPyKrfVfd6Aue_FfcQuIqdaCzbYRgy0yioyywvR3w2fNgQMEdQhRnLhX32wMDmvr-rWm75unEf_Zetaw1e5_w9m2pdquIzZkx0o0=w729-h572-no?authuser=0' width = 800>\n",
    "\n",
    "### 5. Create the same file in all the branches and try to merge it to master also try to edit the same file by all the team member and try to push it.<br>\n",
    "A common file harini.txt was created in my branch 'hotfix' and merge to the master.\n",
    "<img src= 'https://lh3.googleusercontent.com/dJ5m0fkt2OS1ki7S_13xMdhqt7haldqmZ1v37eM-nBTCWXB9J4PEdj1jQ5FMkUarKsmbR1zLV2AxKn0eD3eEYhZ3cd0qIGUPTiNWQvi5e9e2Z5-Yj390CncKzVNHq50IYhdCKib9bjJkL4SOuFK9wPJrXfiMJw-x1iB9UfpIUUssFeEWzPv2fQArM2IRCOOf_K5Svosm8fGnltJ2sbnY9ZyW5tags37Iz7GvJMBy_rWKHZMup3E8hF1yJf0lYZD5hzSrYWDLMhPRXSwanWp2dePHuR6vByGz-E8aEx2lVvZCCdMGgaxYWbYZFEfTUwzuYuAzKH6W4zeh72SpMj5yrgkithTkg9ysBqBLemRcm9dkwXxdzawPMoED961KJN5vY4vxZEzqa-fDrT9V03bbm9MerZIK7sGUe_X17rmA4dYnzsBqQ3juaPxKAKZMONK7dqhiYZ3Gc_eVWCY046HWQWuUGs24-s9hrsqOQAS_Grr2S4ldyPoNQJCq1ffQ_SVUqhwYxxu7LGzwLNU7lCich_eOooXOMhGCqcR94mGwLgIw0gZDPx8RyI1k1jtRdsD4WQ0s4fUBdCF4a53BA3x6A5DUU1HMYcsosUbN3ItGnAOUw3EioWL_X_e0OsIIRVuChtQsudAOg2ch6lG2JFGBWMKYeV4eLmwjQBxnOwhfGMrS-LjWO3C7bD6RKvk6hdykKVbTOYZa5LZmIM5eKPGbW_Q=w731-h671-no?authuser=0'\n",
    "     width = 800>"
   ]
  },
  {
   "cell_type": "code",
   "execution_count": null,
   "id": "f736e23a",
   "metadata": {},
   "outputs": [],
   "source": []
  }
 ],
 "metadata": {
  "kernelspec": {
   "display_name": "Python 3 (ipykernel)",
   "language": "python",
   "name": "python3"
  },
  "language_info": {
   "codemirror_mode": {
    "name": "ipython",
    "version": 3
   },
   "file_extension": ".py",
   "mimetype": "text/x-python",
   "name": "python",
   "nbconvert_exporter": "python",
   "pygments_lexer": "ipython3",
   "version": "3.9.7"
  },
  "toc": {
   "base_numbering": 1,
   "nav_menu": {},
   "number_sections": true,
   "sideBar": true,
   "skip_h1_title": false,
   "title_cell": "Table of Contents",
   "title_sidebar": "Contents",
   "toc_cell": false,
   "toc_position": {},
   "toc_section_display": true,
   "toc_window_display": false
  },
  "varInspector": {
   "cols": {
    "lenName": 16,
    "lenType": 16,
    "lenVar": 40
   },
   "kernels_config": {
    "python": {
     "delete_cmd_postfix": "",
     "delete_cmd_prefix": "del ",
     "library": "var_list.py",
     "varRefreshCmd": "print(var_dic_list())"
    },
    "r": {
     "delete_cmd_postfix": ") ",
     "delete_cmd_prefix": "rm(",
     "library": "var_list.r",
     "varRefreshCmd": "cat(var_dic_list()) "
    }
   },
   "types_to_exclude": [
    "module",
    "function",
    "builtin_function_or_method",
    "instance",
    "_Feature"
   ],
   "window_display": false
  }
 },
 "nbformat": 4,
 "nbformat_minor": 5
}
