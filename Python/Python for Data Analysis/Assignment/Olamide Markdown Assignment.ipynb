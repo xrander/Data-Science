{
 "cells": [
  {
   "cell_type": "markdown",
   "id": "462e27fc",
   "metadata": {},
   "source": [
    "# About Olamide\n",
    "\n",
    "### History\n",
    "Olamide is a ***budding scientist*** in the field of nature resource management with interest in ***modeling, geographic information systems (GIS) and forest inventory and biometrics.*** <br>\n",
    "\n",
    "<img src ='https://github.com/xrander/xrander/blob/main/images/Screenshot%20from%202022-03-03%2019-34-01.png?raw=true'>\n",
    "\n",
    "\n",
    "### Occupation\n",
    "Olamide is a student at the Universityof Copenhangen where the studies a master's program in **Sustainable Forest and Nature Management.** He recently got admission into the *Data Science and Machine learning program* organized by **Intergrify academy**\n",
    "<br/>\n",
    "\n",
    "To reach out to Olamide, check out his [github profile](https://github.com/xrander)\n",
    "\n",
    "\n",
    "#### Likes and Dislikes\n",
    "\n",
    "SN| **Likes** | **Dislikes** \n",
    "--|-----------|----------------\n",
    "1.|Football/Soccer |American Football\n",
    "2.|Learning new things | Sitting idle\n",
    "3.|Programming|The thought of what to cook\n",
    "\n",
    "\n",
    "### New things learned\n",
    "in the previous weeks, Olamide picked up python. Some libraries of python he came across with are:\n",
    "- numpy\n",
    "- pandas\n",
    "- matplotlib\n",
    "- scikit   \n",
    "\n",
    "\n",
    "\n",
    "### Use of pandas\n",
    "```python\n",
    "#simple iteration using python\n",
    "nums = list(range(1,100,2))\n",
    "for num in nums:\n",
    "    print  (1+num)\n",
    "```\n",
    "****\n",
    "\n",
    "\n",
    "### fun part\n",
    "what more would you like to know about Olamide?\n",
    "* [ ] his relationship status\n",
    "* [ ] his family background\n",
    "* [x] his darkest secret\n",
    "\n",
    "\n",
    "-------\n",
    "# Latex Assignment\n",
    "\n",
    "1. $$\\cos(\\alpha + \\beta) = \\cos\\alpha\\cos\\beta \\mp \\sin\\alpha\\sin\\beta$$\n",
    "\n",
    "2. $$\\int\\frac{1}{1+x^2}{dx}=\\arctan{x}+C$$\n",
    "\n",
    "3. $$\\frac{\\partial \\mathbf{u}}{\\partial t} + (\\mathbf{u}\\cdot\\nabla\\mathbf {u} - \\nu\\nabla^2\\mathbf{u}=-\\nabla w+\\mathbf{g}$$\n",
    "\n",
    "4. $$\\oint_C(Ldx+Mdy)=\\iint_D \\left(\\frac{\\partial M}{\\partial x}-\\frac{\\partial L}{\\partial y}\\right)$$\n",
    "\n",
    "5. $$\\lim_{x \\to \\infty}\\frac{\\pi(x)}{\\frac{x}{\\log(x)}}=1$$\n",
    "\n",
    "6. $$\\sum_{n=0}^{\\infty}\\frac{f^{n}(a)}{n!}(x-a)^n$$\n",
    "\n",
    "7. $$\\int_{\\partial\\Omega}\\omega=\\int_\\Omega{}d\\omega$$\n",
    "\n",
    "8. $$Hom(U \\otimes VW)\\cong Hom (U, Hom (V,W))$$\n",
    "\n",
    "9. $$\\mathscr{L}f(t)=F(s)=\\int_o^\\infty f(t)e^{-st}dt$$\n",
    "\n",
    "10. $$\\begin{bmatrix} a & b \\\\ c & d\\end{bmatrix}^{-1}=\\frac {1}{ad-bc}\\begin{bmatrix}d & -b \\\\ -c & a\\end{bmatrix}$$\n",
    "\n",
    "11. $$\\sin x= x\\prod_{n-1}^\\infty\\left({1}-\\frac{x^2}{\\pi^2 n^2}\\right)$$"
   ]
  },
  {
   "cell_type": "code",
   "execution_count": null,
   "id": "17dad756",
   "metadata": {},
   "outputs": [],
   "source": []
  }
 ],
 "metadata": {
  "kernelspec": {
   "display_name": "Python 3 (ipykernel)",
   "language": "python",
   "name": "python3"
  },
  "language_info": {
   "codemirror_mode": {
    "name": "ipython",
    "version": 3
   },
   "file_extension": ".py",
   "mimetype": "text/x-python",
   "name": "python",
   "nbconvert_exporter": "python",
   "pygments_lexer": "ipython3",
   "version": "3.9.7"
  },
  "toc": {
   "base_numbering": 1,
   "nav_menu": {},
   "number_sections": true,
   "sideBar": true,
   "skip_h1_title": false,
   "title_cell": "Table of Contents",
   "title_sidebar": "Contents",
   "toc_cell": false,
   "toc_position": {},
   "toc_section_display": true,
   "toc_window_display": false
  },
  "varInspector": {
   "cols": {
    "lenName": 16,
    "lenType": 16,
    "lenVar": 40
   },
   "kernels_config": {
    "python": {
     "delete_cmd_postfix": "",
     "delete_cmd_prefix": "del ",
     "library": "var_list.py",
     "varRefreshCmd": "print(var_dic_list())"
    },
    "r": {
     "delete_cmd_postfix": ") ",
     "delete_cmd_prefix": "rm(",
     "library": "var_list.r",
     "varRefreshCmd": "cat(var_dic_list()) "
    }
   },
   "types_to_exclude": [
    "module",
    "function",
    "builtin_function_or_method",
    "instance",
    "_Feature"
   ],
   "window_display": false
  }
 },
 "nbformat": 4,
 "nbformat_minor": 5
}
