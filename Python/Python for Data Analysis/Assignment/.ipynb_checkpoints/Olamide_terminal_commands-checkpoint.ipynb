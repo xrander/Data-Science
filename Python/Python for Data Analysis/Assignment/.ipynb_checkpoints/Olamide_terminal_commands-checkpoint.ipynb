{
 "cells": [
  {
   "cell_type": "markdown",
   "metadata": {
    "id": "6XgF1dqkik_R"
   },
   "source": [
    "# Assignment\n",
    "<img src =\"https://www.learnupon.com/wp-content/uploads/assignments720.png\">"
   ]
  },
  {
   "cell_type": "markdown",
   "metadata": {
    "id": "-cqI6A60ik_T"
   },
   "source": [
    "1. what are the differnce between the command ?\n",
    "- ls\n",
    "- ls -a\n",
    "- ls -a -l\n",
    "\n",
    "is there any difference between ls -a -l and ls -al .why?"
   ]
  },
  {
   "cell_type": "markdown",
   "metadata": {
    "id": "USin_DcmFMsb"
   },
   "source": [
    "- ls is a command used to list out files and folders in a current working directory. It does not include hidden files and folders\n",
    "- ls -a shows all the files and folders including hidden files and folders in a current working directory\n",
    "- ls -a -l shows the contents of a directory but provides extra information like their, content permission, number of links to the content, owner of the content (mostly user or root), group owner of the content, size of the content, time content was last modified, and the directory name.\n",
    "\n",
    "### Difference between ls -a - l and ls -al\n",
    "The output of both command seems similar. There are no differences"
   ]
  },
  {
   "cell_type": "markdown",
   "metadata": {
    "id": "0FFKdHmvik_U"
   },
   "source": [
    "Write the code and as well as the show the output"
   ]
  },
  {
   "cell_type": "markdown",
   "metadata": {
    "id": "iM7or3QNik_U"
   },
   "source": [
    "\n",
    "- What command clears the contents of your terminal display?<br>\n",
    "\n",
    "ans - **clear**.<br>\n",
    "![clear.png](https://lh3.googleusercontent.com/aPFL8yrimw8nsYaMfDD6JvuS-gczdtmwAkDgo_XWb9oSjnSz1U4zh4qrUdlLSuw-PMsHpf0cqFQsOd1iKsaioDm78mwHGKowOGpLdwQ8JRIN6E9MrlK5B6qVdHzx9ojPdUu5zeS36bGYTdANzDtFsRvnMzLDtv8FAj7cWldChslrnxrSQLUhxXAXXhDCGkbpHNxX8WNfaFkwlaY1onNjgVJly1eoFWIPv-BGlq1K6_k50G_njcm6Tkri7fAbFZCrIZWQqPyse-dmmPtVfoVqBnxvgbxGebI_MnfgXGy6hQB1z61dR0fk-I5X1Uj1NR4SLqzlIoQMJa_P-23AkJBkT21ue98NN0doy9GrnCwyX_NrpbeQFC7bduLJdXtb-CEOhqJ-TImT9-Jne8NMaMvdv4QqZfUYjnyszw8qQzR8U9A0-kAV8iCtHk3vcICWlDg7_pBdhEMc9In0ecqKxTXIHDWeW4XVeOOiEvXDXg8hsJ8z8oX7B_n6Dk7eBUCWBEWGoWu1yNvy1shjcWr4xkgcbPVxAt3OIn7cGiaS0xtWUGGfn1qaMdUMNJEt1K_KEuCf9vD8FRsJdKog3RTiDIEiIPbPD7QKXypZW7UNXsvBrsTZYvfI14Vkm2cV2ZXfvBkgWjnelHvvXt6JKpEeXJmD-IzzeYtKMyqhcGKUXi09ARSB5d4ZYW_8qg-ra6QuWGNqMA7wJ6Au0rJqE29MgmsK2A=w658-h489-no?authuser=0)\n",
    "\n",
    "- What is the default directory path for system log files?<br>\n",
    "ans - **/var/log** <br>![log.png](https://lh3.googleusercontent.com/bJ_EYlQWppncA9_F4CEIaFDC9fqfajAnEgVg5spqUWQFcBow6fzlHhh3jXIzewkl-RemKzAx9bo4tlY_I3pkybuetcPkDGoORD8-cRcDIuKoKeQfjDO00gJ_dx5cSVvXjbGRCWouFUFDdQj7rJV9dEcCoaBs88u29BCr9tYxuCMMFgVq3qmKmQRRa_fb_IHnm0WReGwzmZBYW1OMcnGlKaGPjYHBkzBETh2TSwA69Obed-CoR5Bg7cKkYGGTU5LC-oPmwL8mkmxVPstQKnuHghF1WoIwUYcR-b5Zdpc8XspGyqG8o1dRgn0pZ_Erm4YQxgSyMSe45geH9Cr2MDnneXiLq0IUf9NAIB-9uZi7_wkNolbB5NY5ZL3S20IWJtdITJvZZ-Lk09YuwVHvI0bvk8Oa8E3BQ22tLaoaelGzQeYvymzbfqnsnnuQ6r-FaJGeiQbdHTRJlFXDmnsnuzvm-lRByB0tpAQttOzqayZ7SVOynPtEQjdDVDpG1tIDTBOBaiAlToMIeTqhY4yuPmuCY3MhAswfzMQhrSqjo2GKljop7NSsxeI5jkEUxgwjUzaUv2JMLfPb0U_CUD8UZYime5iVos6N_kZcYroiQq_YxY4tlWhSK9ePTXxlBp_qLveNGRliEq1zGtYx8UpanBbT1PKmRHpThvj5v13Ct7NKjFARvdYCQU3Dro6afngcTEce1W_20mzaKiJAW8nDajBLfQ=w652-h491-no?authuser=0)\n",
    "\n",
    "- What command is used to get the ip address of all interfaces on a server?<br>\n",
    "ans - **ifconfig** <br>\n",
    "output - enp0s3xxx, lo, wlp1s0 which translates to ethernet, loop and wlan\n",
    "\n",
    "- What command and parameter (or switch) will force a program to quit (even one running in the background)?<br>\n",
    "ans - **kill -9 processID**\n",
    "\n",
    "- What command is used to change ownership of a file?<br>\n",
    "ans - **chmod** \n",
    "- What command(s) shows you disk partitions and percentage of disk space used?<br>\n",
    "ans - **df** <br>\n",
    "![df](https://lh3.googleusercontent.com/P7SmPF6WocrVje4dkjhbKPQaMZx3Uhy3p5RHNLKC2pdqlAE2AKfvRirU9WQHUpIgYCWO2wbujrSAEEGfza4wQdfyfZd1Nk-oFdVq4RHLXCzMsvHzxKWSoBkt9gtBABuC5ahKGuyOVC6AHWOL7N0ggnI_IB2kJtTjJhzGzFQd4anbvhxqA4_vTTOyghCC4ScdZ4dAdIndjqSHYBZEZoWAv7SWdLrnQbYPjfMSLu-6f5-OBf1LZn2aMk6pGPYkjdmh00C15rndTqFBd3oePSEHim5HtNNt0xYAjCPEBVQVuXfymFJwx_i_UeEyRiokjBxE1SBLn42Lv_-v7Mh51MHkWllAQ2fogyBlyBbiwe4RptlFWqHKV76W2DEQnz97mxZmmDAEW4h3MqeXSQUdAqvqMSPjZ1_o6ft3BYgN8irL9U6nmAdkNLFZP2OU9OX3qx6yoeN0Sx66TXRvHVwzgnUrD1HQ5CJlRZ6va-P0EoqbFLpahdTlhl3mDlIEJSZCKWIJqe2K7H124cIT7wt_Nvz8eY7iQXEcdvhVOfIC8oSgt_UBr9y06fcMtpCiPdp7arP8vje6xItdAKOEAbtm6iWNDdojqwerCBvqpJyOwME5GK5dL4N2edO1KZwzCh2dTJV4IY9IRVQEfw3i49vA-XXqwRgKjAewXfp1EV9W_t2Ln6GHJset3crge6wrrijPFLCjGT7mNI9Io2pEkJ5a0FI8rQ=w739-h486-no?authuser=0)\n",
    "- What command displays your current username?<br>\n",
    "ans - **whoami** <br>\n",
    "![whoami](https://lh3.googleusercontent.com/znT2mrU6xFI9UMMPRNX1mIMWsZEpUejK8uByUuuTLvwzRTU64BRZBpFQUgDLFRrw2VCql-scLSP45JWc-WIsdOnanonrRYdXUtZ0m0D-C689Q483cRzZy16RLV7BUsDZxNn025RhDGxctZd1QNCwQXU7shqS8SmkzD46nnQ2PVpXLA4cxOuEPNoRf2efCZOi2K1mbFvxP4PRCicaeJPK6fzcZRp23DovZi32WIJI8-WdU5TqfLdBSH-1EYoCRT-j-V1rOy1uoqtOxnVagzmofn4t8UiW77dqxLep-cdJdOTZ3i0Yq7yS6hE9v0gzvPbJ2NahqRHt29OgjPoggEOQXuQVqO5LnjawNid46Fhxq03CM-OY07na9rVbvDcO5c_rDGkLSIC9EQtzxGS0jRT4g6Gv9e88akg4K1mKjPlwuXmvsESQW6qKIuoua1Ec3OsTeoA8obW-uCeD9LGhAoa8YANLocsYuZm_TyGPj-yFq-WLoYl27dM51T6cSBPSZI-Nr7eN_EvOGaGvMt3Q-dMMMOCgH7zD60SDES9pGXmelLZtLzblwOpkDEwDMwXKW-qUbQeu8pgBs56ShioImV9OFsZXXeDPhiXY6mkYiOVzZ5q9BQLKFenQmuGGWa6Y23J3vNiZsN38GE_ptAIgtJnuiXSIDI5wN7xketkPcdL03I-buu0lhk2-3k0fEwD55k3r2b2KG5xBdLLoTJHIokoaLw=w425-h279-no?authuser=0)\n",
    "- What command allows you to open and view a file one page at a time?<br>\n",
    "ans - **cat** <br>\n",
    "![cat](https://lh3.googleusercontent.com/jVrcQN1kLcqauqYFiG62F_S2kSNj4Xq4H_y_jUq0yWYuNHiBbpuP53t8ZXpHPMMIg9dvCf31P8usOpB6CQFKrUCK8Nv-RRLuYnaSiA4VA804IlZdp6YNhqY9wiek_PTG7X6K821EyjlzSmhJfSub8lPWd26Azt3pHy32GhcqNGbB0Zbw2u_Q1e2TU7rAP5EZbD2P67BX30LEg95wsOA3YBHWMC1G1-j4EgDJY7xlA1m5VUf1iciJeA_R8z4PBSIuRQhYjMlDlAEP4Qdki3rnn-lc6bfb_0jeMIOggrFdMVlPBgbUMJ_4QTz4RSIOCX5yWFiINKRHIBYYIp9MuXAkWsd1ghN4zgOy1UrB5I2LD_HpVXmk56dFpGSyhDgt584YFpGc3bsjSuK04wmkuSoWs_uf2rg9exvvqzkivnVWd5frTYfQlZX4ORih0zQG24-AdJDYmSzQvzvcBwrJqd2mGm7Pnh_H5TATRMgPayhPKfzFPCBUokHxyGuHUOdKQ83JgwmH_G_amz6XL7PTZVeuXX9gQYiNwP_mtO760RNW-gVaxJ7MkbVR-Oytonzldl4w2FGwgKcdWSwTS1oHt_9vPEHmWBU0OquzhYBh9PuvRZ0N8jGDhqxieo-xAKyXZAQsjQG08DtXnNLJRRK1Cb08K5AFI7A7zOdHGxPWEW__mHI_tkeqaNtoqVWKd2U9ch-up-n72jOof8LcXvUlNkBQ1Q=w596-h488-no?authuser=0)\n",
    "- What command is used to change a file name?<br>\n",
    "ans - **mv** <br>\n",
    "![mv](https://lh3.googleusercontent.com/hxkFMwPY97Zxjj1pHopCN4ft3MYKG7_gxjtyCew6gKEPCl4OGbPt9A9IqpWz6wxwreoH9pH271TVB2KkzI20OrOJthWSYMxMkhyATCODOVwTBnd7tpYhqd34WbVApZwAeMZ22daI8NmPOQD2A_fI7ZpdsfJg17iSLBFmgdjqaceSZ9tAFSEt1FOkmbXCW1SYTPBKpPVnXpp6MIJqwgjEa8thYVl2EYB0g9S8ugM3g4LClsP_hsqYyam5fMxCZSunzPNaUqrvMhLHuhiEO9MUyFbm7OF2ET7AviD78vyIUkbpauXPGJac79MWQrpbuQlakgazOVzNE5jA5dW7vqU1Qp2s7LGGi1_cIZ_1cLgyoND7ECKP1VlfUH2HAhUQiwGbYR9d0KIoMCWDARMPgm_fjLRY1mrGmfGO-AOWctw-0-8Lx2Hl1vm55pLYLMVdKs8UrywmPWQLNVWu6_xMQVktGybHDD_KmGAAvDHfk8uCWI9M7GuKoKON5PkGrBymRwk4PCfprQDontX5xVZ1SMswaXowZfvQ20726KAa9DHieB2I-L7ftfotxug2nRC41Enp0BjkbksxDoxCU-zq6RgiHSuW4JZ6mxy-cPkdrxC6qsYMHpuvmyTY6ipJbbC0LfkdOGxjIjAGFVulhAUx9GJS1o9mpPPpaN7jCzCohCMmKe-Vg2Gh46YjtGzn4nRAkL35QmndlBynwhE8UuOOOb6vVQ=w591-h476-no?authuser=0)\n",
    "- What is the command to switch to the root user account? <br>\n",
    "ans - **sudo**\n",
    "- What command is used to display your previous commands?<br>\n",
    "ans - **history**\n",
    "- What is the command to run a program with elevated permissions?<br>\n",
    "ans - **sudo**\n",
    "- what command is used to count count the total number of lines, words and character in a file?<br>\n",
    "ans - **wc** in conjuction with the filename and its extension\n",
    "![wc](https://lh3.googleusercontent.com/6SsHNC3M8ie1DUcayRWMxk4G2SB4hmIJtNqgiqq307yo68rbnohWhoA8Xmkaq8xpfMjHpkWNX06rD-Sp1k0YamoYeM0B7e7Ghawe7AvlkpWZJGcxbW0nin_csqJ6y4pXTwoklCbA_N3bFjf1JR7Ct6RIdta-0FAuE9uBQMBe2kjKuZQvvd-BhSn8qb8ikK9Y9Ba9d7NYzNMd3Rhis_g-BRlfCb3cWTmkgnE-1k2Pi6JC7rgCtTppeSTWzD8m2beRPyp-br2f0dOpDqfPI_9hUJmp8nZQayuiqp-aFhCxoRnHw-W9pl2Dt8FtU_3niCcVsVJUnlp-I1clyTUeUXTlB_FaSv1BJUyQ6VlNdJIgfcd-y-tVpbHbu62jBS41hJYJN-p0MAlFgdm3s-Cn6z_PT09KITnOJC47iGcZNE4mQOCsdPxZOkBSUbjuLm4A7BGhpzxCaY0B1z1ycDdGEU3IXt0dB3ftLQJXhve_wmfFhlOBzSw2kGYUyvEnuIGoF-5MHYIfUCHXc4W3xTEp8faPqHVGVJiHJG8ODHfb-9i-bqDENnqwM9Xrcu_yzAbr3HfjlXAMvJG3eSl5Z7SwJEiPkMPVNQoswEzXo_nGqmM2zRqeTeRtUtB00lkIKKLgTwKCqGFR1GborgP_L_Q3RKZdfqwziDLBR7Re28ANWjVuv1IKqJHzEZ0oB95I2212NbJvrrmBl3Y1BA2TVx_40PtiNQ=w899-h604-no?authuser=0)\n",
    "-  What command is used to add printing jobs to the queue?\n",
    "ans - **lpr q**"
   ]
  },
  {
   "cell_type": "markdown",
   "metadata": {
    "id": "u0Ru3pVNik_V"
   },
   "source": [
    "### here are the essential command line tools for data scientist . I would like each one of you to go through the command , use it and explain what it does? \n",
    "- write  a difference between the CURL and WGET ?"
   ]
  },
  {
   "cell_type": "markdown",
   "metadata": {
    "id": "Y9snih5lik_W"
   },
   "source": [
    "1. wget - *it is used to download files from the internet*\n",
    "2. curl - *this used to transfer data from or to a server*\n",
    "2. head - *used to show the first 5 rows or data*\n",
    "3. tail - *used to show the last 5 rows or data*\n",
    "4. find - *it is used to search and locate list of files and directories*\n",
    "5. cut - *it removes sections from each line of files*\n",
    "6. uniq - *it reports or omit repeated lines*\n",
    "7. grep *it searches for strings of characters or patterns in a file*\n",
    "\n",
    "wget downloads file from the internet and saves it in the disk while curl technically copy or sends date to a server."
   ]
  },
  {
   "cell_type": "markdown",
   "metadata": {
    "id": "hsnm3y_Eik_X"
   },
   "source": [
    "# Baic data analysis task with the command shell"
   ]
  },
  {
   "cell_type": "markdown",
   "metadata": {
    "id": "K1zrAUmIik_X"
   },
   "source": [
    "q1. download a file from the given link and save it as iris.data and abalone.data\n",
    "\n",
    "links:\n",
    "\n",
    "    -  http://archive.ics.uci.edu/ml/machine-learning-databases/iris/\n",
    "\n",
    "    - http://archive.ics.uci.edu/ml/machine-learning-databases/abalone/ "
   ]
  },
  {
   "cell_type": "markdown",
   "metadata": {
    "id": "W2XKkMT8ik_Y"
   },
   "source": [
    "Q2. print the fist and last 5 lines in the file iris and abalone"
   ]
  },
  {
   "cell_type": "markdown",
   "metadata": {
    "id": "dlk_RIl3ik_Z"
   },
   "source": [
    "Q3. extract the intermediate line (50-60)for iris and (100-110) for abalone .Hint: use piping with head and tail"
   ]
  },
  {
   "cell_type": "markdown",
   "metadata": {
    "id": "cRK7rCfTik_Z"
   },
   "source": [
    "Q4. count the number of rows"
   ]
  },
  {
   "cell_type": "markdown",
   "metadata": {
    "id": "gkuDurqxik_a"
   },
   "source": [
    "Q.5 Remove the 1st 10 line from the abalone.data : hint use :Sed command. hint: https://www.geeksforgeeks.org/sed-command-in-linux-unix-with-examples/\n"
   ]
  },
  {
   "cell_type": "markdown",
   "metadata": {
    "id": "5FqUtp1sik_a"
   },
   "source": [
    " Q.6 when you print the last 5 row you see only 4 because you have 1 blank line at the end of file. remove the line \n",
    "\n",
    " - save a new removed last line file into a same iris.data file"
   ]
  },
  {
   "cell_type": "markdown",
   "metadata": {
    "id": "MTenumhtik_b"
   },
   "source": [
    "Q.7 get the size of the file"
   ]
  },
  {
   "cell_type": "code",
   "execution_count": null,
   "metadata": {
    "id": "X5WwveWNC_0K"
   },
   "outputs": [],
   "source": []
  },
  {
   "cell_type": "markdown",
   "metadata": {
    "ExecuteTime": {
     "end_time": "2020-03-31T13:34:04.977344Z",
     "start_time": "2020-03-31T13:34:04.968196Z"
    },
    "id": "64qyRoqHik_b"
   },
   "source": [
    "Q.8 extract the first and second column of the data abalone\n",
    "hint: use cut"
   ]
  },
  {
   "cell_type": "markdown",
   "metadata": {
    "id": "37QlgGU-ik_c"
   },
   "source": [
    "Q.9 count the unique value in the column for the iris and abalone\n",
    "\n",
    "hint:\n",
    "\n",
    "- take species column from the iris\n",
    "- take the sex column from the abalone "
   ]
  },
  {
   "cell_type": "code",
   "execution_count": null,
   "metadata": {
    "id": "ttL7-7g8ik_c"
   },
   "outputs": [],
   "source": []
  },
  {
   "cell_type": "markdown",
   "metadata": {
    "id": "puXMGjWi1QUe"
   },
   "source": [
    "Q.10 print only the female abalone and show 10 out of them. and also the species Iris-virginical from the iris dataset"
   ]
  },
  {
   "cell_type": "code",
   "execution_count": null,
   "metadata": {
    "id": "kcnuOqn41cHg"
   },
   "outputs": [],
   "source": []
  },
  {
   "cell_type": "markdown",
   "metadata": {
    "id": "jkTzZLsk1cw_"
   },
   "source": [
    "Q.11 use  a column command to view the abalone.data into a table format  amd use head to show only 5 of them"
   ]
  },
  {
   "cell_type": "code",
   "execution_count": null,
   "metadata": {
    "id": "VACnFqp_1ogc"
   },
   "outputs": [],
   "source": []
  },
  {
   "cell_type": "markdown",
   "metadata": {
    "id": "Qnmhrm-W1pVX"
   },
   "source": [
    "Q.12 from the whole data in abalone randomly shuffle and take 5 rows"
   ]
  },
  {
   "cell_type": "code",
   "execution_count": null,
   "metadata": {
    "id": "txZdAeod1wn1"
   },
   "outputs": [],
   "source": []
  }
 ],
 "metadata": {
  "celltoolbar": "Slideshow",
  "colab": {
   "collapsed_sections": [],
   "name": "terminal_commans.ipynb",
   "provenance": []
  },
  "kernelspec": {
   "display_name": "Python 3 (ipykernel)",
   "language": "python",
   "name": "python3"
  },
  "language_info": {
   "codemirror_mode": {
    "name": "ipython",
    "version": 3
   },
   "file_extension": ".py",
   "mimetype": "text/x-python",
   "name": "python",
   "nbconvert_exporter": "python",
   "pygments_lexer": "ipython3",
   "version": "3.9.7"
  },
  "toc": {
   "base_numbering": 1,
   "nav_menu": {},
   "number_sections": true,
   "sideBar": true,
   "skip_h1_title": false,
   "title_cell": "Table of Contents",
   "title_sidebar": "Contents",
   "toc_cell": false,
   "toc_position": {},
   "toc_section_display": true,
   "toc_window_display": false
  },
  "varInspector": {
   "cols": {
    "lenName": 16,
    "lenType": 16,
    "lenVar": 40
   },
   "kernels_config": {
    "python": {
     "delete_cmd_postfix": "",
     "delete_cmd_prefix": "del ",
     "library": "var_list.py",
     "varRefreshCmd": "print(var_dic_list())"
    },
    "r": {
     "delete_cmd_postfix": ") ",
     "delete_cmd_prefix": "rm(",
     "library": "var_list.r",
     "varRefreshCmd": "cat(var_dic_list()) "
    }
   },
   "types_to_exclude": [
    "module",
    "function",
    "builtin_function_or_method",
    "instance",
    "_Feature"
   ],
   "window_display": false
  }
 },
 "nbformat": 4,
 "nbformat_minor": 1
}
