{
 "cells": [
  {
   "cell_type": "code",
   "execution_count": null,
   "id": "f0c6ff70",
   "metadata": {},
   "outputs": [],
   "source": [
    "print ('Welcome to Current affairs game')"
   ]
  },
  {
   "cell_type": "code",
   "execution_count": null,
   "id": "a838071e",
   "metadata": {
    "scrolled": true
   },
   "outputs": [],
   "source": [
    "playing = input ('do you want to play? ' )"
   ]
  },
  {
   "cell_type": "code",
   "execution_count": null,
   "id": "f1ff5779",
   "metadata": {},
   "outputs": [],
   "source": [
    "if playing.lower == 'yes':\n",
    "    print (\"Great, let's play\")\n",
    "else:\n",
    "    print ('woops, okay')\n",
    "    quit()"
   ]
  },
  {
   "cell_type": "code",
   "execution_count": null,
   "id": "eeed93e2",
   "metadata": {},
   "outputs": [],
   "source": [
    "name= input('player name ')"
   ]
  },
  {
   "cell_type": "code",
   "execution_count": null,
   "id": "69974b6f",
   "metadata": {},
   "outputs": [],
   "source": [
    "print (name+ ' ' + \"let's have some fun\")"
   ]
  },
  {
   "cell_type": "code",
   "execution_count": null,
   "id": "c56b94af",
   "metadata": {},
   "outputs": [],
   "source": [
    "score = 0"
   ]
  },
  {
   "cell_type": "code",
   "execution_count": null,
   "id": "e5669f10",
   "metadata": {},
   "outputs": [],
   "source": [
    "question = input ('Who is the richest man in the world as at january 2022? ')"
   ]
  },
  {
   "cell_type": "code",
   "execution_count": null,
   "id": "3e956574",
   "metadata": {},
   "outputs": [],
   "source": [
    "if question.lower == 'Elon musk':\n",
    "    print ('that is correct')\n",
    "    score += 1\n",
    "else:\n",
    "    print ('that is wrong')"
   ]
  },
  {
   "cell_type": "code",
   "execution_count": null,
   "id": "1c9bbc78",
   "metadata": {},
   "outputs": [],
   "source": [
    "question = input ('Who is the current president in the United States of America? ')"
   ]
  },
  {
   "cell_type": "code",
   "execution_count": null,
   "id": "6ccc3d34",
   "metadata": {},
   "outputs": [],
   "source": [
    "if question.lower == 'Joe Biden':\n",
    "    print ('that is the correct answer')\n",
    "    score += 1\n",
    "else:\n",
    "    print ('that is wrong')"
   ]
  },
  {
   "cell_type": "code",
   "execution_count": null,
   "id": "c6f57ab9",
   "metadata": {},
   "outputs": [],
   "source": [
    "question = input ('Who is the highest scoring footballer of all time in the English Premier League? ')"
   ]
  },
  {
   "cell_type": "code",
   "execution_count": null,
   "id": "8ae7d7b0",
   "metadata": {},
   "outputs": [],
   "source": [
    "if question == 'Alan Shearer':\n",
    "    print ('correct')\n",
    "    score += 1\n",
    "else:\n",
    "    print ('that is wrong')"
   ]
  },
  {
   "cell_type": "code",
   "execution_count": null,
   "id": "55b8ab00",
   "metadata": {},
   "outputs": [],
   "source": [
    "print (name + ' ' + 'scored' + ' ' + str((score/3)*100)"
   ]
  },
  {
   "cell_type": "code",
   "execution_count": null,
   "id": "2cf97fdf",
   "metadata": {},
   "outputs": [],
   "source": []
  }
 ],
 "metadata": {
  "kernelspec": {
   "display_name": "Python 3",
   "language": "python",
   "name": "python3"
  },
  "language_info": {
   "codemirror_mode": {
    "name": "ipython",
    "version": 3
   },
   "file_extension": ".py",
   "mimetype": "text/x-python",
   "name": "python",
   "nbconvert_exporter": "python",
   "pygments_lexer": "ipython3",
   "version": "3.8.8"
  }
 },
 "nbformat": 4,
 "nbformat_minor": 5
}
