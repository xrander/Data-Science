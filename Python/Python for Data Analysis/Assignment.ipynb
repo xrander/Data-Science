{
 "cells": [
  {
   "cell_type": "markdown",
   "metadata": {},
   "source": [
    "\n",
    "\n",
    "# assigment\n",
    "\n",
    "- [x] Calculate the area of a circle\n",
    "\n",
    "- [x] Say Hello to user, Expected, ‘Hello name’\n",
    "\n",
    "- [x] Calculate Volume of Sphere\n",
    "\n",
    "4. Copy String in n times\n",
    "\n",
    "5. Calculate Area of a Triangle\n",
    "\n",
    "6. Calculate Interest\n",
    "\n",
    "7. calculate Euclidean Distance\n",
    "\n",
    "8. Feet to centimeter Converter\n",
    "\n",
    "9. BMI Calculator\n",
    "\n",
    "10. Binary to Decimal\n",
    "\n",
    "11. receive two integral numbers in string form and compute their sum and then print it in console.\n",
    "\n",
    "12. bitwise operators for any two variable all the bitwise operator that are there\n",
    "\n",
    "13. shift operators\n",
    "\n",
    "14. str1=\" this is a sample daTaa to test for the task\" Check if ‘is’ present in str1\n",
    "\n",
    "15.  Check if ‘was’ not present in str1\n",
    "\n",
    "16. Print str1 in uppercase\n",
    "\n",
    "17.  Print str1 as title\n",
    "\n",
    "18. Get a new string from str1 ‘DatTaa’ as ‘Data’\n",
    "\n",
    "19. Print a new string with extra \"a\" removed form previous task\n",
    "\n",
    "20. Display ‘sample’ word from ‘ this is another sample string ‘\n",
    "\n",
    "21. Display date, month and year form 21-oct-2020\n",
    "\n",
    "22. arr = “10,20,30,40,50,60,70”, get “50,60”\n",
    "\n",
    "23. using negative index get \"50 ,60\"\n",
    "\n",
    "24. From credit_str get ‘8888’\n",
    "credit_str = \"xxxx----xxxx-8888------xxxx\"\n",
    "\n",
    "25. From credit_str get ‘0’\n",
    "credit_str = \"1234-5678-9878-0434\"\n",
    "\n",
    "26. convert a integer into a string and print it in console.\n",
    "\n",
    "27. take two strings as input and concatenate them and then print it\n",
    "\n",
    "28. convert the given string into list\n",
    "given_string = \" Apples is differnt from Apple Inc\"\n",
    "\n",
    "29. print type of a and get the 1 element\n",
    "a = {(1,2):1,(2,3):2}\n",
    "\n",
    "30. write a program to get  list as 4,3,2 from the list below\n",
    "a=1,2,3,4,5\n",
    "\n",
    "31. write a program to get odd number only using a slicing\n",
    "a=1,2,3,4,5,6,7,8,9\n",
    "\n",
    "32. create a tuple with (1,2) 5 times\n",
    "\n",
    "33. from given list create separate lists of strings and numbers.use list comprehension\n",
    "gadgets = \"Mobile\", \"Laptop\", 100, \"Camera\", 310.28, \"Speakers\", 27.00, \"Television\", 1000, \"Laptop Case\", \"Camera Lens\"\n",
    "\n",
    "34. An array is given from the array find the sum of diagonal using list comprehension\n",
    "a_2d=[1, 2, 3, 4, 5, 6, 7, 8, 9]\n",
    "\n",
    "35. convert number into tuple of words using comprehension\n",
    "num=8976543201\n",
    "\n",
    "36. print the numbers which are divisible by 2 but are not a multiple of 5\n",
    "numbers = range(1, 10)\n",
    "\n",
    "37. print the sum of tuple : use comprehension\n",
    "init_tuple = [(0, 1), (1, 2), (2, 3)]\n",
    "\n",
    "\n",
    "\n",
    "38. delete the last coumn from the given 4*4 matrix\n",
    "arr = [[1, 2, 3, 4],\n",
    "       [4, 5, 6, 7],\n",
    "       [8, 9, 10, 11],\n",
    "       [12, 13, 14, 15]]\n",
    "\n",
    "\n",
    "39. get the list of value of dict in sorted way\n",
    "dict = {'c': 97, 'a': 96, 'b': 98}\n",
    "\n",
    "40. Creating a Dictionary with Integer Keys and print it\n",
    "\n",
    "41. Creating a Dictionary with Mixed keys\n",
    "\n",
    "42. Creating an empty Dictionary\n",
    "\n",
    "43. Creating a Dictionary with dict() method\n",
    "\n",
    "44. Creating a Dictionary with each item as a Pair\n",
    "\n",
    "45. Creating a Nested Dictionary as shown in the below image\n",
    "{1: 'python', 2: 'For', 3: {'A': 'Welcome', 'B': 'To', 'C': 'Python', 'D': 'class'}}\n",
    "\n",
    "46. Add a Nested Key value to nested dictionary Dictionary\n",
    "\n",
    "47. create a dictionary with id:num and value: square for range (0,6) using dict comprehension\n",
    "\n",
    "48. create a dictionary using dict comprehension to get the odd square only\n",
    "\n",
    "49. from a given dict {1: 'a', 2: 'b', 3: 'c'} change the key into item and viceversa\n",
    "\n",
    "50. get a hello from the given dict\n",
    "d = {'k1':[{'nest_key':['this is deep','hello']}]}\n",
    "\n",
    "d1 = {'k1':[1,2,{'k2':['this is tricky',{'tough':[1,2,'hello']}]}]}\n",
    "\n",
    "51. Divisibility Check of user given 2 input of numbers\n",
    "\n",
    "52. Check if number is even or odd\n",
    "\n",
    "53. Check whether Entered character is Vowel or not\n",
    "\n",
    "54. calculate Sum of n positive Integer\n",
    "example: Sum of n positive Integer till 2 is 3\n",
    "\n",
    "55. calculate the Digit Sum of a number (eg: 123 print 1+2+3=6)\n",
    "\n",
    "56. Count Numbers, Alphabets, and Special Character from user input string\n",
    "\n",
    "57. constuct the given pattern\n",
    "\n",
    "```\n",
    "* \n",
    "* * \n",
    "* * * \n",
    "* * * * \n",
    "* * * * * \n",
    "* * * * \n",
    "* * * \n",
    "* * \n",
    "* \n",
    "````\n",
    "\n",
    "\n",
    "58. Count number of characters in a string\n",
    "eg : {'h': 1, 'e': 1, 'l': 2, 'o': 1}\n",
    "\n",
    "59. write a program to compute 5/0 using try except\n",
    "\n",
    "\n",
    "60. Handle the exception thrown by the code below by using try and except blocks.\n",
    "li=[\"hello\",\"class\"]\n",
    "for i in li:\n",
    "    print (i**2)\n",
    "\n",
    "\n",
    "61.  Write a function that asks for an integer and prints the square of it. Use a while loop with a try,except, else block to account for incorrect inputs.\n",
    "\n",
    " example: Input an integer: null\n",
    "An error occurred! Please try again!\n",
    "Input an integer: 2\n",
    "Thank you, you number squared is: 4\n",
    "\n",
    "\n",
    "62. Accept the String and print the words composed of digits only\n",
    "\n",
    "63. find the parity outlier from the given sequence use list comprehension\n",
    "seq=1,2,3,5,7\n",
    "\n",
    "64. get the complement\n",
    "where:\n",
    "\n",
    "```\n",
    "A ->> T\n",
    "T -->> A\n",
    "C --> G\n",
    "G --> C\n",
    "```\n",
    "\n",
    "for the given DNA dna=\"ATTGC\"\n",
    "\n",
    "\n",
    "65. Write a program that inputs a number from the user and displays the factorial of that number using while loop.\n",
    "\n",
    "66. Ask the user for a number,to pick the color from the list print the color.\n",
    "color= Blue, Green, Orange, Red\n",
    "\n",
    "67. Write a program that computes the value of a+aa+aaa+aaaa with a given digit as the value of a.\n",
    "\n",
    "68. write a program that lets user to input the value seperate by \",\" and create a list from it using list comprehension\n",
    "\n",
    "69. Write a program that calculates and prints the value according to the given formula:\n",
    "Q = Square root of (2 C D)/H\n",
    "given,\n",
    "c=50\n",
    "h=30\n",
    "D is the variable whose values should be input to your program in a comma-separated sequence.\n",
    "Example 100,150,180\n",
    "The output : 18,22,24\n",
    "\n",
    "70. Write a program that accepts a sequence of whitespace separated words as input and prints the words after removing all duplicate words and sorting them alphanumerically.\n",
    "\n",
    "\n",
    "71. Write a program which accepts a sequence of comma separated 4 digit binary numbers and then check whether they are divisible by 5 or not. print the number\n",
    "Example: 0100,0011,1010,1001 Then the output should be: 1010\n",
    "\n",
    "72. By using list comprehension, please write a program to print the list after removing the even index numbers\n",
    "li=range(10)\n",
    "\n",
    "73. write a function to get the sum of two num(use lambda)\n",
    "\n",
    "74. write a function to print if leap year or not\n",
    "\n",
    "75. write a function to count a bit(number of 1) in number (use lambda)\n",
    "\n",
    "76. write a program to get the area of a circle from the radius (use lambda)\n",
    "\n",
    "77. write a function to get the factorial of given number use recurssion\n",
    "\n",
    "78. write a program to remove a duplicate word in a list or user input sentences.\n",
    "\n",
    "79. calculate fibonacci\n",
    "\n",
    "80. write a function to get the premutation and combination\n",
    "\n",
    "81. write a function to draw a diamond shape from a user given number:\n",
    "hint: only odd number can draw a diamond shape\n",
    "\n",
    "82. build a simple calculator which can:\n",
    "add\n",
    "subtract\n",
    "multiply\n",
    "divide\n",
    "\n",
    "83. define a function which can print a given string in a circular rotation\n",
    "\n",
    "84. write a function to calculate the GCD of 2 number\n",
    "\n",
    "85. Write a Python function to check whether a string is pangram or not.\n",
    "\n",
    "86. write a function which take a list of number and target where target is number . print the index from the list where the sum of the index value is equal to that of the target\n",
    "\n",
    "87. write a function to calculate the LCM of a 2 number\n",
    "lcm of 54 and 42 is 216\n",
    "\n",
    "88. write a function that gives the prime factor only\n",
    "\n",
    "89. write a function that print the first non repeating letter\n",
    "\n",
    "90. return sum of array excluding the lowest and highest element\n",
    "\n",
    "91. define a function take a string value replace any number below 5 with 0 and any number above 5 with 1\n",
    "\n",
    "92. write a function to get a day of week eg: (30,8,2010)=1\n",
    "\n",
    "93. write a function to get all the permutation of the string\n",
    "\n",
    "94. write a function to get all the possible subset of a string in a list\n",
    "\n",
    "95. write a function to get the length of the last word only from a string seperated by space\n",
    "ex:('string of words') == 5 ex:('adasd ')=5\n",
    "\n",
    "96. write a program for a tower of hanoi puzzle\n",
    "\n",
    "97. Use a for loop to estimate π from the first 20 terms of the Madhava series:\n",
    "\\begin{equation}\\pi=\\sqrt{12}\\left(1-\\frac{1}{3 \\cdot 3}+\\frac{1}{5 \\cdot 3^{2}}-\\frac{1}{7 \\cdot 3^{3}}+\\cdots\\right)\\end{equation}\n",
    "\n",
    "98. write a function to check if the number is harshad or not\n",
    "A Harshad number is an integer that is divisible by the sum of its digits (for example, 21 is divisible by 2+1=3 and so is a Harshad number).\n",
    "\n",
    "99. write a function select_word(): to get a random word from a list of words\n",
    "use module random and call random.randint() to chose random\n",
    "\n",
    "100. write a function blank(word): where it should print _ after first letter to the range of length of word\n",
    "i.e apple= a _ _ _ _\n",
    "\n",
    "101. compete the code below\n",
    "\n",
    "```\n",
    "write a code in your code section\n",
    "\n",
    "def hang_man(word,clue,letter,try_left):\n",
    "    # create a variable \"try\" and set it to True\n",
    "    # your code\n",
    "    #--------------------------------\n",
    "    # loop through the length of the word\n",
    "    # your code\n",
    "        # check condition if word is equal to letter\n",
    "        #the set clue= clue from o to current index of loop + letter + clue from current index +1 to last\n",
    "        # your code\n",
    "        #set try to false\n",
    "        # your code\n",
    "    #---------------------------------------------------\n",
    "    # check condition if try is true then decrease the try_left by 1\n",
    "    # your code\n",
    "        print(\"wrong try\", try_left)\n",
    "    print(\"you got so far\",clue)\n",
    "\n",
    "    # check if word is equal to clue:\n",
    "    #your code\n",
    "        print(\"you win\")\n",
    "    # check is try_left is 0:\n",
    "    # your code\n",
    "        print(\"you lost\")\n",
    "    else:\n",
    "        # ask user to input next letter \n",
    "        #next_letter=\"your code\"\n",
    "        # call the recursive function of itself\n",
    "\n",
    "word=# call a function select word\n",
    "clue=# call a function balnk\n",
    " call a function hang_man() where set letter to word[0] and try_left to=5\n",
    "\n",
    "```\n",
    "\n",
    "102. write a map function which calculate the list multiple of 5:\n",
    "eg:  x == [ 2,  3,  4,  5,  6]\n",
    "    y == [10, 15, 20, 25, 30]\n",
    "\n",
    "103. write a map function which multiply the odd values by 5 and add them to the list \n",
    "\n",
    "104. write a map function to get:\n",
    "x=[2,3,4]\n",
    "y=[4,5]\n",
    "ans: z=[[6,7],[7,8],[8,9]]\n",
    "\n",
    "105. write a function to convert a z list to 1d list : use reduce\n",
    "\n"
   ]
  },
  {
   "cell_type": "code",
   "execution_count": 1,
   "metadata": {
    "ExecuteTime": {
     "end_time": "2022-03-24T13:24:18.475951Z",
     "start_time": "2022-03-24T13:24:18.472831Z"
    }
   },
   "outputs": [],
   "source": [
    "import math"
   ]
  },
  {
   "cell_type": "code",
   "execution_count": 5,
   "metadata": {
    "ExecuteTime": {
     "end_time": "2022-03-24T13:26:50.583083Z",
     "start_time": "2022-03-24T13:26:48.705242Z"
    }
   },
   "outputs": [
    {
     "name": "stdout",
     "output_type": "stream",
     "text": [
      "input a value of the radius: 6\n",
      "113.09733552923255\n"
     ]
    }
   ],
   "source": [
    "#Calculate Area of a Circle\n",
    "#using radius\n",
    "area=math.pi*(float(input('input a value for the radius: '))**2)\n",
    "print(area)"
   ]
  },
  {
   "cell_type": "code",
   "execution_count": 7,
   "metadata": {
    "ExecuteTime": {
     "end_time": "2022-03-24T13:35:44.722686Z",
     "start_time": "2022-03-24T13:35:43.091485Z"
    }
   },
   "outputs": [
    {
     "name": "stdout",
     "output_type": "stream",
     "text": [
      "input a value for the diameter: 6\n",
      "28.274333882308138\n"
     ]
    }
   ],
   "source": [
    "#using diameter\n",
    "area_d=math.pi*((float(input('input a value for the diameter: '))/2)**2)\n",
    "print (area_d)"
   ]
  },
  {
   "cell_type": "code",
   "execution_count": 43,
   "metadata": {
    "ExecuteTime": {
     "end_time": "2022-03-24T14:30:17.760432Z",
     "start_time": "2022-03-24T14:30:17.754232Z"
    }
   },
   "outputs": [
    {
     "name": "stdout",
     "output_type": "stream",
     "text": [
      "<function areaofcircle at 0x7f79f285fd30>\n"
     ]
    }
   ],
   "source": [
    "#defining a function foe area of a circle\n",
    "def areaofcircle(r):\n",
    "    PI = 3.14\n",
    "    return PI * (r*r)\n",
    "print (areaofcircle)"
   ]
  },
  {
   "cell_type": "code",
   "execution_count": 45,
   "metadata": {
    "ExecuteTime": {
     "end_time": "2022-03-24T14:30:24.126946Z",
     "start_time": "2022-03-24T14:30:24.122895Z"
    }
   },
   "outputs": [
    {
     "data": {
      "text/plain": [
       "314.0"
      ]
     },
     "execution_count": 45,
     "metadata": {},
     "output_type": "execute_result"
    }
   ],
   "source": [
    "areaofcircle(10)"
   ]
  },
  {
   "cell_type": "code",
   "execution_count": 17,
   "metadata": {
    "ExecuteTime": {
     "end_time": "2022-03-24T13:50:58.905969Z",
     "start_time": "2022-03-24T13:50:55.804899Z"
    },
    "scrolled": true
   },
   "outputs": [
    {
     "name": "stdout",
     "output_type": "stream",
     "text": [
      "input your name: Michael\n",
      "Hello Michael\n"
     ]
    }
   ],
   "source": [
    "#Say Hello to user, Expected, ‘Hello name’\n",
    "sayhello = ('Hello ' + input('input your name: '))\n",
    "print (sayhello)"
   ]
  },
  {
   "cell_type": "code",
   "execution_count": 21,
   "metadata": {
    "ExecuteTime": {
     "end_time": "2022-03-24T13:54:56.281746Z",
     "start_time": "2022-03-24T13:54:54.664929Z"
    }
   },
   "outputs": [
    {
     "name": "stdout",
     "output_type": "stream",
     "text": [
      "input the radius: 4\n",
      "268.082573106329\n"
     ]
    }
   ],
   "source": [
    "#Calculate Volume of Sphere\n",
    "vol_of_sphere = 4/3 * math.pi * (float(input('input the radius: '))**3)\n",
    "print (vol_of_sphere)"
   ]
  },
  {
   "cell_type": "code",
   "execution_count": 39,
   "metadata": {
    "ExecuteTime": {
     "end_time": "2022-03-24T14:29:46.443373Z",
     "start_time": "2022-03-24T14:29:44.434016Z"
    }
   },
   "outputs": [
    {
     "name": "stdout",
     "output_type": "stream",
     "text": [
      "input the radius: 3\n",
      "<function vol_of_sphere at 0x7f7a18f8d820>\n"
     ]
    }
   ],
   "source": [
    "def vol_of_sphere(r):  \n",
    "    '''\n",
    "    function to calculate the colume of a a sphere\n",
    "    r is the radius\n",
    "    '''\n",
    "    pi = 3.142\n",
    "    f = 4/3\n",
    "    return f*pi*(r**3)\n",
    "print (vol_of_sphere)"
   ]
  },
  {
   "cell_type": "code",
   "execution_count": 42,
   "metadata": {
    "ExecuteTime": {
     "end_time": "2022-03-24T14:30:02.549106Z",
     "start_time": "2022-03-24T14:30:02.542980Z"
    },
    "scrolled": true
   },
   "outputs": [
    {
     "data": {
      "text/plain": [
       "5576.002666666666"
      ]
     },
     "execution_count": 42,
     "metadata": {},
     "output_type": "execute_result"
    }
   ],
   "source": [
    "vol_of_sphere(11)"
   ]
  },
  {
   "cell_type": "code",
   "execution_count": null,
   "metadata": {},
   "outputs": [],
   "source": [
    "#Copy String in n times\n"
   ]
  },
  {
   "cell_type": "code",
   "execution_count": 46,
   "metadata": {
    "ExecuteTime": {
     "end_time": "2022-03-24T14:36:42.125424Z",
     "start_time": "2022-03-24T14:36:37.100636Z"
    }
   },
   "outputs": [
    {
     "name": "stdout",
     "output_type": "stream",
     "text": [
      "input the height value: 10\n",
      "input the base value: 15\n",
      "75.0\n"
     ]
    }
   ],
   "source": [
    "#Calculate Area of a Triangle\n",
    "area_tri = (float(input('input the height value: ')) * float (input ('input the base value: ')))/2\n",
    "print (area_tri)"
   ]
  },
  {
   "cell_type": "code",
   "execution_count": 47,
   "metadata": {
    "ExecuteTime": {
     "end_time": "2022-03-24T17:10:24.155993Z",
     "start_time": "2022-03-24T17:10:24.146005Z"
    }
   },
   "outputs": [
    {
     "name": "stdout",
     "output_type": "stream",
     "text": [
      "<function area_tri at 0x7f79f285ff70>\n"
     ]
    }
   ],
   "source": [
    "def area_tri(h,b):\n",
    "    '''\n",
    "    this function calculates the area of a triangle\n",
    "    h = height of the triangle\n",
    "    b =  base of the triangle\n",
    "    '''\n",
    "    return (h*b)/2\n",
    "print (area_tri)"
   ]
  },
  {
   "cell_type": "code",
   "execution_count": 48,
   "metadata": {
    "ExecuteTime": {
     "end_time": "2022-03-24T17:10:39.871968Z",
     "start_time": "2022-03-24T17:10:39.865887Z"
    }
   },
   "outputs": [
    {
     "data": {
      "text/plain": [
       "25.0"
      ]
     },
     "execution_count": 48,
     "metadata": {},
     "output_type": "execute_result"
    }
   ],
   "source": [
    "area_tri(10,5)"
   ]
  },
  {
   "cell_type": "code",
   "execution_count": 54,
   "metadata": {
    "ExecuteTime": {
     "end_time": "2022-03-24T17:34:35.370197Z",
     "start_time": "2022-03-24T17:34:28.845134Z"
    }
   },
   "outputs": [
    {
     "name": "stdout",
     "output_type": "stream",
     "text": [
      "input the principal amount: 500\n",
      "input the rate: 5\n",
      "input the time: 10\n",
      "750.0\n"
     ]
    }
   ],
   "source": [
    "sim_interest = float(input('input the principal amount: ')) * (1 + ((float (input('input the rate: '))/100)*(float(input('input the time: ')))))\n",
    "print(sim_interest)"
   ]
  },
  {
   "cell_type": "code",
   "execution_count": 58,
   "metadata": {
    "ExecuteTime": {
     "end_time": "2022-03-24T17:36:25.731487Z",
     "start_time": "2022-03-24T17:36:25.727325Z"
    }
   },
   "outputs": [
    {
     "name": "stdout",
     "output_type": "stream",
     "text": [
      "<function interest at 0x7f79f285f820>\n"
     ]
    }
   ],
   "source": [
    "#Calculate Interest\n",
    "def interest(x,y,z):\n",
    "    '''function to calculate the simple interest\n",
    "    x = principal\n",
    "    y = rate \n",
    "    z = time\n",
    "    '''\n",
    "    return x*(1+((y/100)*z))\n",
    "print (interest)"
   ]
  },
  {
   "cell_type": "code",
   "execution_count": 59,
   "metadata": {
    "ExecuteTime": {
     "end_time": "2022-03-24T17:36:27.832971Z",
     "start_time": "2022-03-24T17:36:27.825789Z"
    }
   },
   "outputs": [
    {
     "data": {
      "text/plain": [
       "750.0"
      ]
     },
     "execution_count": 59,
     "metadata": {},
     "output_type": "execute_result"
    }
   ],
   "source": [
    "interest (500,5,10)"
   ]
  },
  {
   "cell_type": "markdown",
   "metadata": {
    "ExecuteTime": {
     "end_time": "2020-10-28T17:26:42.454063Z",
     "start_time": "2020-10-28T17:26:42.440403Z"
    }
   },
   "source": [
    "#### 106. write a function to convert a z list to 1d list : use reduce\n"
   ]
  },
  {
   "cell_type": "markdown",
   "metadata": {},
   "source": [
    "107. write a function using a type annotations which take a two vector a and b which calculate the vector sum \n",
    "eg: `[1,2,3]+[4,5,6]`=`[5,7,9]`"
   ]
  },
  {
   "cell_type": "markdown",
   "metadata": {},
   "source": [
    "108. write a function which using a type annotation to calculate te dot product of two vector\n",
    "\n",
    "eg: `[1,2,3]+[4,5,6]=32`"
   ]
  },
  {
   "cell_type": "markdown",
   "metadata": {},
   "source": [
    "109. write a function to calculate the sum of vector which take a list of vector using type annotation\n",
    "eg:`[1,2],[3,4],[5,6]`=`[9,12]`"
   ]
  },
  {
   "cell_type": "markdown",
   "metadata": {},
   "source": [
    "110. write a function to get the shape of a matrix also use type annotation:\n",
    "eg:`[[1,2],[2,3]]`=`(2,2)`"
   ]
  },
  {
   "cell_type": "markdown",
   "metadata": {},
   "source": [
    "111. write a functions to create a matrix and used function to crete a 3*3 identity matrix :\n",
    "hint:use a Callable from typing\n",
    "\n"
   ]
  },
  {
   "cell_type": "markdown",
   "metadata": {},
   "source": [
    "112.  follow the link https://www.willamette.edu/~gorr/classes/cs449/reber.html and try to  generate a embedded reber grammar as shown in fig 2.\n",
    " HINT:\n",
    " -first create a list of list of tuple of reber_ grammar\n",
    "\n",
    " the node and edges are:\n",
    "\n",
    " B=1,T=2, P=3, S=2,X=4,T=3,V=5,X=3,S=6,P=4,V=6,E=None\n",
    "\n",
    " create a list of tuple of (edge,Node)\n",
    "\n",
    " eg:[[(\"B\",1)],\n",
    " [(),()]]\n",
    "\n",
    "- after that crete a list as shown in graph in figure 2\n",
    "\n",
    "\n",
    "    \n"
   ]
  },
  {
   "cell_type": "markdown",
   "metadata": {},
   "source": [
    "```\n",
    "def generate_reber_string(grammar):\n",
    "    s=0\n",
    "    optput=[]\n",
    "    # loop untill s in not None:\n",
    "        p,s=grammar[s][np.random.randint(len(grammar[s]))]\n",
    "        # if instane is still list:\n",
    "            # call the function again\n",
    "        #append the called funcion output to output\n",
    "    #return the join output\n",
    "```"
   ]
  },
  {
   "cell_type": "markdown",
   "metadata": {},
   "source": [
    "113. write a function to generate a password :\n",
    "    - password should have a number,special_char,alphabet(both capital and small)\n",
    "    - allow user to input the length of password"
   ]
  },
  {
   "cell_type": "markdown",
   "metadata": {},
   "source": [
    "114. write a function  to get the integers satisfying a2+b2=c2  called Pythagorean numbers.\n",
    "\n",
    "the function take a input from a user with a maximal number:\n",
    "eg: if user give: 5\n",
    "it should print\n",
    "(3,4)\n",
    "similarly:10\n",
    "3 ,4\n",
    "6,8\n"
   ]
  },
  {
   "cell_type": "code",
   "execution_count": null,
   "metadata": {},
   "outputs": [],
   "source": []
  },
  {
   "cell_type": "code",
   "execution_count": null,
   "metadata": {},
   "outputs": [],
   "source": []
  },
  {
   "cell_type": "markdown",
   "metadata": {},
   "source": [
    "115: write a program to guess a random number between range 1 to n\n",
    "- hint use random.randit() to generate a random number\n",
    "- the program should have upper bound and lower bound eg(1-30)\n",
    "- if user give 0 should exit the program\n",
    "- if the guess is less thean lower or grater than upper (\"not in boundary)\n"
   ]
  },
  {
   "cell_type": "code",
   "execution_count": null,
   "metadata": {},
   "outputs": [],
   "source": []
  },
  {
   "cell_type": "markdown",
   "metadata": {},
   "source": [
    "116: Write a function which takes a text and encrypts it with a Caesar cipher as well as decrypt.(https://en.wikipedia.org/wiki/Caesar_cipher) .\n",
    "\n",
    "- input:\"hello\",\n",
    "- output: encrypt:EBIIL\n",
    "- decyprt: HELLO\n"
   ]
  },
  {
   "cell_type": "code",
   "execution_count": null,
   "metadata": {},
   "outputs": [],
   "source": []
  },
  {
   "cell_type": "markdown",
   "metadata": {
    "ExecuteTime": {
     "end_time": "2021-04-19T14:18:05.559706Z",
     "start_time": "2021-04-19T14:18:05.556837Z"
    }
   },
   "source": [
    "117: write a function which take a text and dictionary to decrypt or encrypt the text with a permutated alphabet\n",
    "hint:\n",
    "- alphabet=strings.ascii_letters\n",
    "- permuted=(from random use sample on alphabet and its length)\n",
    "- create a variable :\n",
    "    - encrypt which is a dic of (alphabet and permuted)\n",
    "    - decrypt which is a dic(permuted and alphabet)\n",
    "\n",
    "    "
   ]
  },
  {
   "cell_type": "code",
   "execution_count": null,
   "metadata": {},
   "outputs": [],
   "source": []
  },
  {
   "cell_type": "markdown",
   "metadata": {},
   "source": [
    "118: Write a function which translates a text to morse code- (https://www.alamy.com/international-morse-code-letters-template-for-your-design-image271353887.html)\n",
    "\n",
    "Write another function  which translates a string in Morse code into a \"normal“ string.\n",
    "\n",
    "- hint\n",
    "- create a dic of letter and its morse code:\n",
    "\n",
    "`eg:{'A':'.-', 'B':'-...', 'C':'-.-.', 'D':'-..', \n",
    "      'E':'.', 'F':'..-.', 'G':'--.','H':'....', }`\n"
   ]
  },
  {
   "cell_type": "code",
   "execution_count": null,
   "metadata": {},
   "outputs": [],
   "source": []
  },
  {
   "cell_type": "markdown",
   "metadata": {},
   "source": [
    "118:Write a program to calculate the square root of a number by using the Babylonian method.(https://en.wikipedia.org/wiki/Methods_of_computing_square_roots)"
   ]
  },
  {
   "cell_type": "markdown",
   "metadata": {},
   "source": [
    "119:Write a function which take a string , a substring to look for and number of time it occur in a string.calculates the position of the n-th occurence of a string sub in another string s. If sub doesn't occur in s, -1 shall be returned.\n",
    "eg:\n",
    "```\n",
    "s = \"hello this a new call hello class\"\n",
    "print(find_nth_occurance(s,\"hello\", 2))\n",
    "```"
   ]
  },
  {
   "cell_type": "code",
   "execution_count": null,
   "metadata": {},
   "outputs": [],
   "source": []
  },
  {
   "cell_type": "markdown",
   "metadata": {},
   "source": [
    "120: write a recursive function for  f(n) = 7 * n, i.e. the multiples of 7\n",
    "\n"
   ]
  },
  {
   "cell_type": "code",
   "execution_count": null,
   "metadata": {},
   "outputs": [],
   "source": []
  },
  {
   "cell_type": "markdown",
   "metadata": {},
   "source": [
    "121:Write a function which implements the Pascal's triangle use recursion:(https://www.mathsisfun.com/pascals-triangle.html#:~:text=One%20of%20the%20most%20interesting,directly%20above%20it%20added%20together.)\n",
    "\n"
   ]
  },
  {
   "cell_type": "code",
   "execution_count": 30,
   "metadata": {
    "ExecuteTime": {
     "end_time": "2021-04-19T14:42:26.586459Z",
     "start_time": "2021-04-19T14:42:26.582870Z"
    }
   },
   "outputs": [],
   "source": []
  },
  {
   "cell_type": "markdown",
   "metadata": {
    "ExecuteTime": {
     "end_time": "2021-04-19T14:42:27.065215Z",
     "start_time": "2021-04-19T14:42:27.061656Z"
    }
   },
   "source": [
    "122: Write a recursive program to calculate the Fibonacci numbers, using Pascal's triangle."
   ]
  },
  {
   "cell_type": "code",
   "execution_count": null,
   "metadata": {},
   "outputs": [],
   "source": []
  },
  {
   "cell_type": "markdown",
   "metadata": {},
   "source": [
    "123: write a fuction  to check if the given data type are iterable or not ?\n"
   ]
  },
  {
   "cell_type": "code",
   "execution_count": null,
   "metadata": {},
   "outputs": [],
   "source": []
  },
  {
   "cell_type": "markdown",
   "metadata": {
    "ExecuteTime": {
     "end_time": "2021-04-19T14:52:14.590402Z",
     "start_time": "2021-04-19T14:52:14.586927Z"
    }
   },
   "source": [
    "124: Write a generator  which computes the running average.\n",
    "```\n",
    "    eg:[1,2,3,4,5,6]\n",
    "        1-->1\n",
    "        2---->1.50\n",
    "        3----->2\n",
    "        4----->2.50\n",
    "        5---->3\n",
    "        6---->3.50\n",
    " ```"
   ]
  },
  {
   "cell_type": "markdown",
   "metadata": {},
   "source": [
    "125: Write a generator  which behaves like range but accepts float values."
   ]
  },
  {
   "cell_type": "code",
   "execution_count": null,
   "metadata": {},
   "outputs": [],
   "source": []
  },
  {
   "cell_type": "markdown",
   "metadata": {},
   "source": [
    "126:Write a generator which returns  a zero or a one in every iteration. \n",
    "- The probability p for returning a 1 is defined in a variable p.\n",
    "- default value of probability=0.5. In other words,1 and 0 will be returned with the same probability.\n",
    "\n"
   ]
  },
  {
   "cell_type": "code",
   "execution_count": null,
   "metadata": {},
   "outputs": [],
   "source": []
  },
  {
   "cell_type": "markdown",
   "metadata": {
    "ExecuteTime": {
     "end_time": "2021-04-19T15:12:41.436082Z",
     "start_time": "2021-04-19T15:12:41.432852Z"
    }
   },
   "source": [
    "127: Write a generator cycle performing the same task.\n",
    "\n",
    "- cycle('ABCD') --> A B C D A B C D A B C D ..."
   ]
  },
  {
   "cell_type": "code",
   "execution_count": null,
   "metadata": {},
   "outputs": [],
   "source": []
  },
  {
   "cell_type": "markdown",
   "metadata": {},
   "source": [
    "128)  create a list of list from the given detail below\n",
    "```\n",
    "id   product              Quantity     Price_per\n",
    "1020 iphone 12          4          1200\n",
    "2313 mac book pro       5          3200                \n",
    "1234 drone              3          900\n",
    "3212 tv                 8          500\n",
    "3213 book               3          20\n",
    "````\n",
    "\n",
    "\n",
    "Write a Python program, which returns a list with 2-tuples. Each tuple consists of a the product name and  the total price of product . The product should be increased by 10,- € if the value of the order is smaller than 100,00 €.\n",
    "Write a Python program using lambda and map.\n"
   ]
  },
  {
   "cell_type": "code",
   "execution_count": null,
   "metadata": {},
   "outputs": [],
   "source": []
  },
  {
   "cell_type": "markdown",
   "metadata": {
    "ExecuteTime": {
     "end_time": "2021-04-19T15:29:28.635473Z",
     "start_time": "2021-04-19T15:29:28.631444Z"
    }
   },
   "source": [
    "129: Write a program which returns a list of two tuples with (order number, total amount of order).\n",
    "\n",
    "- list of tuple:\n",
    "```\n",
    "[ordernumber, (article number, quantity, price per unit), ... (article number, quantity, price per unit) ]\n",
    "```\n",
    "\n",
    "use : map, reduce and lambda\n"
   ]
  },
  {
   "cell_type": "code",
   "execution_count": 141,
   "metadata": {
    "ExecuteTime": {
     "end_time": "2021-04-19T15:40:01.734530Z",
     "start_time": "2021-04-19T15:40:01.730417Z"
    }
   },
   "outputs": [],
   "source": [
    "orders = [ [1, (\"5464\", 4, 10), (\"8274\",18,15), (\"9744\", 9, 20)], \n",
    "           [2, (\"5464\", 9, 9.99), (\"9744\", 9, 44.95)],\n",
    "           [3, (\"5464\", 9, 9.99), (\"88112\", 11, 24.99)],\n",
    "           [4, (\"8732\", 7, 11.99), (\"7733\",11,18.99), (\"88112\", 5, 39.95)],\n",
    "            [5, (\"8732\", 7, 11.99), (\"7733\",11,18.99), (\"8274\", 5, 39.95)],\n",
    "          [6, (\"8732\", 7, 11.99), (\"8274\",11,18.99), (\"9744\", 5, 39.95)] \n",
    "         ]"
   ]
  },
  {
   "cell_type": "markdown",
   "metadata": {
    "ExecuteTime": {
     "end_time": "2021-04-19T15:40:02.368301Z",
     "start_time": "2021-04-19T15:40:02.364251Z"
    }
   },
   "source": [
    "--output```[[1, 490], [2, 494.46000000000004], [3, 364.79999999999995], [4, 492.57], [5, 492.57], [6, 492.57]]````\n"
   ]
  },
  {
   "cell_type": "code",
   "execution_count": null,
   "metadata": {},
   "outputs": [],
   "source": []
  },
  {
   "cell_type": "code",
   "execution_count": null,
   "metadata": {},
   "outputs": [],
   "source": []
  },
  {
   "cell_type": "markdown",
   "metadata": {},
   "source": [
    "130: write a nested function to calulate the temp from celcius to farhen"
   ]
  },
  {
   "cell_type": "code",
   "execution_count": null,
   "metadata": {},
   "outputs": [],
   "source": []
  },
  {
   "cell_type": "markdown",
   "metadata": {},
   "source": [
    "131:Write a nested  function so that it can work for polynomials of arbitrary degree:\n",
    "\n",
    "\\begin{equation}\n",
    "\\sum_{k=0}^{n} a_{k} \\cdot x^{k}=a_{n} \\cdot x^{n}+a_{n-1} \\cdot x^{n-1}+\\ldots+a_{2} \\cdot x^{2}+a_{1} \\cdot x+a_{0}\n",
    "\\end{equation}"
   ]
  },
  {
   "cell_type": "code",
   "execution_count": null,
   "metadata": {},
   "outputs": [],
   "source": []
  },
  {
   "cell_type": "markdown",
   "metadata": {},
   "source": [
    "132:write a decorator so that the argument passed is. positive integer for a function factorial that you have created before\n",
    "\n",
    "\n",
    "\n",
    "\n",
    "\n"
   ]
  },
  {
   "cell_type": "code",
   "execution_count": null,
   "metadata": {},
   "outputs": [],
   "source": []
  },
  {
   "cell_type": "markdown",
   "metadata": {},
   "source": [
    "133:write a decorator to count the number of times a function has beeen called . eg\n",
    "define a add function and loop it for 10 time and check\n"
   ]
  },
  {
   "cell_type": "code",
   "execution_count": null,
   "metadata": {},
   "outputs": [],
   "source": []
  },
  {
   "cell_type": "code",
   "execution_count": null,
   "metadata": {},
   "outputs": [],
   "source": []
  }
 ],
 "metadata": {
  "kernelspec": {
   "display_name": "Python 3 (ipykernel)",
   "language": "python",
   "name": "python3"
  },
  "language_info": {
   "codemirror_mode": {
    "name": "ipython",
    "version": 3
   },
   "file_extension": ".py",
   "mimetype": "text/x-python",
   "name": "python",
   "nbconvert_exporter": "python",
   "pygments_lexer": "ipython3",
   "version": "3.9.7"
  },
  "latex_envs": {
   "LaTeX_envs_menu_present": true,
   "autoclose": false,
   "autocomplete": true,
   "bibliofile": "biblio.bib",
   "cite_by": "apalike",
   "current_citInitial": 1,
   "eqLabelWithNumbers": true,
   "eqNumInitial": 1,
   "hotkeys": {
    "equation": "Ctrl-E",
    "itemize": "Ctrl-I"
   },
   "labels_anchors": false,
   "latex_user_defs": false,
   "report_style_numbering": false,
   "user_envs_cfg": false
  },
  "toc": {
   "base_numbering": 1,
   "nav_menu": {},
   "number_sections": true,
   "sideBar": true,
   "skip_h1_title": false,
   "title_cell": "Table of Contents",
   "title_sidebar": "Contents",
   "toc_cell": false,
   "toc_position": {},
   "toc_section_display": true,
   "toc_window_display": false
  },
  "varInspector": {
   "cols": {
    "lenName": 16,
    "lenType": 16,
    "lenVar": 40
   },
   "kernels_config": {
    "python": {
     "delete_cmd_postfix": "",
     "delete_cmd_prefix": "del ",
     "library": "var_list.py",
     "varRefreshCmd": "print(var_dic_list())"
    },
    "r": {
     "delete_cmd_postfix": ") ",
     "delete_cmd_prefix": "rm(",
     "library": "var_list.r",
     "varRefreshCmd": "cat(var_dic_list()) "
    }
   },
   "types_to_exclude": [
    "module",
    "function",
    "builtin_function_or_method",
    "instance",
    "_Feature"
   ],
   "window_display": false
  }
 },
 "nbformat": 4,
 "nbformat_minor": 4
}
