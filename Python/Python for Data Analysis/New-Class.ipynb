{
 "cells": [
  {
   "cell_type": "code",
   "execution_count": 2,
   "id": "e2a0ef0b",
   "metadata": {
    "ExecuteTime": {
     "end_time": "2022-02-22T15:47:22.724075Z",
     "start_time": "2022-02-22T15:47:22.719260Z"
    }
   },
   "outputs": [
    {
     "name": "stdout",
     "output_type": "stream",
     "text": [
      "hello world\n"
     ]
    }
   ],
   "source": [
    "print('hello world')"
   ]
  },
  {
   "cell_type": "code",
   "execution_count": 3,
   "id": "28fd242c",
   "metadata": {
    "ExecuteTime": {
     "end_time": "2022-02-22T15:52:31.691583Z",
     "start_time": "2022-02-22T15:52:28.503559Z"
    }
   },
   "outputs": [
    {
     "name": "stdout",
     "output_type": "stream",
     "text": [
      "Collecting rise\n",
      "  Downloading rise-5.7.1-py2.py3-none-any.whl (4.3 MB)\n",
      "\u001b[K     |████████████████████████████████| 4.3 MB 6.6 MB/s eta 0:00:01\n",
      "\u001b[?25hRequirement already satisfied: notebook>=6.0 in /home/xrand/anaconda3/lib/python3.9/site-packages (from rise) (6.4.5)\n",
      "Requirement already satisfied: tornado>=6.1 in /home/xrand/anaconda3/lib/python3.9/site-packages (from notebook>=6.0->rise) (6.1)\n",
      "Requirement already satisfied: argon2-cffi in /home/xrand/anaconda3/lib/python3.9/site-packages (from notebook>=6.0->rise) (20.1.0)\n",
      "Requirement already satisfied: nbformat in /home/xrand/anaconda3/lib/python3.9/site-packages (from notebook>=6.0->rise) (5.1.3)\n",
      "Requirement already satisfied: ipython-genutils in /home/xrand/anaconda3/lib/python3.9/site-packages (from notebook>=6.0->rise) (0.2.0)\n",
      "Requirement already satisfied: ipykernel in /home/xrand/anaconda3/lib/python3.9/site-packages (from notebook>=6.0->rise) (6.4.1)\n",
      "Requirement already satisfied: nbconvert in /home/xrand/anaconda3/lib/python3.9/site-packages (from notebook>=6.0->rise) (6.1.0)\n",
      "Requirement already satisfied: terminado>=0.8.3 in /home/xrand/anaconda3/lib/python3.9/site-packages (from notebook>=6.0->rise) (0.9.4)\n",
      "Requirement already satisfied: prometheus-client in /home/xrand/anaconda3/lib/python3.9/site-packages (from notebook>=6.0->rise) (0.11.0)\n",
      "Requirement already satisfied: pyzmq>=17 in /home/xrand/anaconda3/lib/python3.9/site-packages (from notebook>=6.0->rise) (22.2.1)\n",
      "Requirement already satisfied: Send2Trash>=1.5.0 in /home/xrand/anaconda3/lib/python3.9/site-packages (from notebook>=6.0->rise) (1.8.0)\n",
      "Requirement already satisfied: jupyter-core>=4.6.1 in /home/xrand/anaconda3/lib/python3.9/site-packages (from notebook>=6.0->rise) (4.8.1)\n",
      "Requirement already satisfied: traitlets>=4.2.1 in /home/xrand/anaconda3/lib/python3.9/site-packages (from notebook>=6.0->rise) (5.1.0)\n",
      "Requirement already satisfied: jinja2 in /home/xrand/anaconda3/lib/python3.9/site-packages (from notebook>=6.0->rise) (2.11.3)\n",
      "Requirement already satisfied: jupyter-client>=5.3.4 in /home/xrand/anaconda3/lib/python3.9/site-packages (from notebook>=6.0->rise) (6.1.12)\n",
      "Requirement already satisfied: python-dateutil>=2.1 in /home/xrand/anaconda3/lib/python3.9/site-packages (from jupyter-client>=5.3.4->notebook>=6.0->rise) (2.8.2)\n",
      "Requirement already satisfied: six>=1.5 in /home/xrand/anaconda3/lib/python3.9/site-packages (from python-dateutil>=2.1->jupyter-client>=5.3.4->notebook>=6.0->rise) (1.16.0)\n",
      "Requirement already satisfied: ptyprocess in /home/xrand/anaconda3/lib/python3.9/site-packages (from terminado>=0.8.3->notebook>=6.0->rise) (0.7.0)\n",
      "Requirement already satisfied: cffi>=1.0.0 in /home/xrand/anaconda3/lib/python3.9/site-packages (from argon2-cffi->notebook>=6.0->rise) (1.14.6)\n",
      "Requirement already satisfied: pycparser in /home/xrand/anaconda3/lib/python3.9/site-packages (from cffi>=1.0.0->argon2-cffi->notebook>=6.0->rise) (2.20)\n",
      "Requirement already satisfied: matplotlib-inline<0.2.0,>=0.1.0 in /home/xrand/anaconda3/lib/python3.9/site-packages (from ipykernel->notebook>=6.0->rise) (0.1.2)\n",
      "Requirement already satisfied: debugpy<2.0,>=1.0.0 in /home/xrand/anaconda3/lib/python3.9/site-packages (from ipykernel->notebook>=6.0->rise) (1.4.1)\n",
      "Requirement already satisfied: ipython<8.0,>=7.23.1 in /home/xrand/anaconda3/lib/python3.9/site-packages (from ipykernel->notebook>=6.0->rise) (7.29.0)\n",
      "Requirement already satisfied: backcall in /home/xrand/anaconda3/lib/python3.9/site-packages (from ipython<8.0,>=7.23.1->ipykernel->notebook>=6.0->rise) (0.2.0)\n",
      "Requirement already satisfied: pexpect>4.3 in /home/xrand/anaconda3/lib/python3.9/site-packages (from ipython<8.0,>=7.23.1->ipykernel->notebook>=6.0->rise) (4.8.0)\n",
      "Requirement already satisfied: setuptools>=18.5 in /home/xrand/anaconda3/lib/python3.9/site-packages (from ipython<8.0,>=7.23.1->ipykernel->notebook>=6.0->rise) (58.0.4)\n",
      "Requirement already satisfied: pygments in /home/xrand/anaconda3/lib/python3.9/site-packages (from ipython<8.0,>=7.23.1->ipykernel->notebook>=6.0->rise) (2.10.0)\n",
      "Requirement already satisfied: pickleshare in /home/xrand/anaconda3/lib/python3.9/site-packages (from ipython<8.0,>=7.23.1->ipykernel->notebook>=6.0->rise) (0.7.5)\n",
      "Requirement already satisfied: decorator in /home/xrand/anaconda3/lib/python3.9/site-packages (from ipython<8.0,>=7.23.1->ipykernel->notebook>=6.0->rise) (5.1.0)\n",
      "Requirement already satisfied: jedi>=0.16 in /home/xrand/anaconda3/lib/python3.9/site-packages (from ipython<8.0,>=7.23.1->ipykernel->notebook>=6.0->rise) (0.18.0)\n",
      "Requirement already satisfied: prompt-toolkit!=3.0.0,!=3.0.1,<3.1.0,>=2.0.0 in /home/xrand/anaconda3/lib/python3.9/site-packages (from ipython<8.0,>=7.23.1->ipykernel->notebook>=6.0->rise) (3.0.20)\n",
      "Requirement already satisfied: parso<0.9.0,>=0.8.0 in /home/xrand/anaconda3/lib/python3.9/site-packages (from jedi>=0.16->ipython<8.0,>=7.23.1->ipykernel->notebook>=6.0->rise) (0.8.2)\n",
      "Requirement already satisfied: wcwidth in /home/xrand/anaconda3/lib/python3.9/site-packages (from prompt-toolkit!=3.0.0,!=3.0.1,<3.1.0,>=2.0.0->ipython<8.0,>=7.23.1->ipykernel->notebook>=6.0->rise) (0.2.5)\n",
      "Requirement already satisfied: MarkupSafe>=0.23 in /home/xrand/anaconda3/lib/python3.9/site-packages (from jinja2->notebook>=6.0->rise) (1.1.1)\n",
      "Requirement already satisfied: jupyterlab-pygments in /home/xrand/anaconda3/lib/python3.9/site-packages (from nbconvert->notebook>=6.0->rise) (0.1.2)\n",
      "Requirement already satisfied: mistune<2,>=0.8.1 in /home/xrand/anaconda3/lib/python3.9/site-packages (from nbconvert->notebook>=6.0->rise) (0.8.4)\n",
      "Requirement already satisfied: entrypoints>=0.2.2 in /home/xrand/anaconda3/lib/python3.9/site-packages (from nbconvert->notebook>=6.0->rise) (0.3)\n",
      "Requirement already satisfied: defusedxml in /home/xrand/anaconda3/lib/python3.9/site-packages (from nbconvert->notebook>=6.0->rise) (0.7.1)\n",
      "Requirement already satisfied: pandocfilters>=1.4.1 in /home/xrand/anaconda3/lib/python3.9/site-packages (from nbconvert->notebook>=6.0->rise) (1.4.3)\n",
      "Requirement already satisfied: nbclient<0.6.0,>=0.5.0 in /home/xrand/anaconda3/lib/python3.9/site-packages (from nbconvert->notebook>=6.0->rise) (0.5.3)\n",
      "Requirement already satisfied: testpath in /home/xrand/anaconda3/lib/python3.9/site-packages (from nbconvert->notebook>=6.0->rise) (0.5.0)\n",
      "Requirement already satisfied: bleach in /home/xrand/anaconda3/lib/python3.9/site-packages (from nbconvert->notebook>=6.0->rise) (4.0.0)\n",
      "Requirement already satisfied: async-generator in /home/xrand/anaconda3/lib/python3.9/site-packages (from nbclient<0.6.0,>=0.5.0->nbconvert->notebook>=6.0->rise) (1.10)\n",
      "Requirement already satisfied: nest-asyncio in /home/xrand/anaconda3/lib/python3.9/site-packages (from nbclient<0.6.0,>=0.5.0->nbconvert->notebook>=6.0->rise) (1.5.1)\n",
      "Requirement already satisfied: jsonschema!=2.5.0,>=2.4 in /home/xrand/anaconda3/lib/python3.9/site-packages (from nbformat->notebook>=6.0->rise) (3.2.0)\n",
      "Requirement already satisfied: pyrsistent>=0.14.0 in /home/xrand/anaconda3/lib/python3.9/site-packages (from jsonschema!=2.5.0,>=2.4->nbformat->notebook>=6.0->rise) (0.18.0)\n",
      "Requirement already satisfied: attrs>=17.4.0 in /home/xrand/anaconda3/lib/python3.9/site-packages (from jsonschema!=2.5.0,>=2.4->nbformat->notebook>=6.0->rise) (21.2.0)\n",
      "Requirement already satisfied: packaging in /home/xrand/anaconda3/lib/python3.9/site-packages (from bleach->nbconvert->notebook>=6.0->rise) (21.0)\n",
      "Requirement already satisfied: webencodings in /home/xrand/anaconda3/lib/python3.9/site-packages (from bleach->nbconvert->notebook>=6.0->rise) (0.5.1)\n",
      "Requirement already satisfied: pyparsing>=2.0.2 in /home/xrand/anaconda3/lib/python3.9/site-packages (from packaging->bleach->nbconvert->notebook>=6.0->rise) (3.0.4)\n",
      "Installing collected packages: rise\n",
      "Successfully installed rise-5.7.1\n",
      "Note: you may need to restart the kernel to use updated packages.\n"
     ]
    }
   ],
   "source": [
    "pip install rise"
   ]
  },
  {
   "cell_type": "code",
   "execution_count": 1,
   "id": "eb409551",
   "metadata": {
    "ExecuteTime": {
     "end_time": "2022-02-22T18:52:58.824998Z",
     "start_time": "2022-02-22T18:52:55.775112Z"
    }
   },
   "outputs": [
    {
     "name": "stdout",
     "output_type": "stream",
     "text": [
      "Collecting sklearn\n",
      "  Downloading sklearn-0.0.tar.gz (1.1 kB)\n",
      "Requirement already satisfied: scikit-learn in /home/xrand/anaconda3/lib/python3.9/site-packages (from sklearn) (0.24.2)\n",
      "Requirement already satisfied: numpy>=1.13.3 in /home/xrand/anaconda3/lib/python3.9/site-packages (from scikit-learn->sklearn) (1.20.3)\n",
      "Requirement already satisfied: scipy>=0.19.1 in /home/xrand/anaconda3/lib/python3.9/site-packages (from scikit-learn->sklearn) (1.7.1)\n",
      "Requirement already satisfied: joblib>=0.11 in /home/xrand/anaconda3/lib/python3.9/site-packages (from scikit-learn->sklearn) (1.1.0)\n",
      "Requirement already satisfied: threadpoolctl>=2.0.0 in /home/xrand/anaconda3/lib/python3.9/site-packages (from scikit-learn->sklearn) (2.2.0)\n",
      "Building wheels for collected packages: sklearn\n",
      "  Building wheel for sklearn (setup.py) ... \u001b[?25ldone\n",
      "\u001b[?25h  Created wheel for sklearn: filename=sklearn-0.0-py2.py3-none-any.whl size=1309 sha256=3819f4b9480810da75ea63bdaa133a2d4cf34ebf8c14d96ed6b89cf3f09f2f2e\n",
      "  Stored in directory: /home/xrand/.cache/pip/wheels/e4/7b/98/b6466d71b8d738a0c547008b9eb39bf8676d1ff6ca4b22af1c\n",
      "Successfully built sklearn\n",
      "Installing collected packages: sklearn\n",
      "Successfully installed sklearn-0.0\n",
      "Note: you may need to restart the kernel to use updated packages.\n"
     ]
    }
   ],
   "source": [
    "pip install sklearn"
   ]
  },
  {
   "cell_type": "code",
   "execution_count": 2,
   "id": "93fe26ad",
   "metadata": {
    "ExecuteTime": {
     "end_time": "2022-02-22T18:54:11.838143Z",
     "start_time": "2022-02-22T18:54:11.816697Z"
    }
   },
   "outputs": [
    {
     "data": {
      "application/json": {
       "cell": {
        "!": "OSMagics",
        "HTML": "Other",
        "SVG": "Other",
        "bash": "Other",
        "capture": "ExecutionMagics",
        "debug": "ExecutionMagics",
        "file": "Other",
        "html": "DisplayMagics",
        "javascript": "DisplayMagics",
        "js": "DisplayMagics",
        "latex": "DisplayMagics",
        "markdown": "DisplayMagics",
        "perl": "Other",
        "prun": "ExecutionMagics",
        "pypy": "Other",
        "python": "Other",
        "python2": "Other",
        "python3": "Other",
        "ruby": "Other",
        "script": "ScriptMagics",
        "sh": "Other",
        "svg": "DisplayMagics",
        "sx": "OSMagics",
        "system": "OSMagics",
        "time": "ExecutionMagics",
        "timeit": "ExecutionMagics",
        "writefile": "OSMagics"
       },
       "line": {
        "alias": "OSMagics",
        "alias_magic": "BasicMagics",
        "autoawait": "AsyncMagics",
        "autocall": "AutoMagics",
        "automagic": "AutoMagics",
        "autosave": "KernelMagics",
        "bookmark": "OSMagics",
        "cat": "Other",
        "cd": "OSMagics",
        "clear": "KernelMagics",
        "colors": "BasicMagics",
        "conda": "PackagingMagics",
        "config": "ConfigMagics",
        "connect_info": "KernelMagics",
        "cp": "Other",
        "debug": "ExecutionMagics",
        "dhist": "OSMagics",
        "dirs": "OSMagics",
        "doctest_mode": "BasicMagics",
        "ed": "Other",
        "edit": "KernelMagics",
        "env": "OSMagics",
        "gui": "BasicMagics",
        "hist": "Other",
        "history": "HistoryMagics",
        "killbgscripts": "ScriptMagics",
        "ldir": "Other",
        "less": "KernelMagics",
        "lf": "Other",
        "lk": "Other",
        "ll": "Other",
        "load": "CodeMagics",
        "load_ext": "ExtensionMagics",
        "loadpy": "CodeMagics",
        "logoff": "LoggingMagics",
        "logon": "LoggingMagics",
        "logstart": "LoggingMagics",
        "logstate": "LoggingMagics",
        "logstop": "LoggingMagics",
        "ls": "Other",
        "lsmagic": "BasicMagics",
        "lx": "Other",
        "macro": "ExecutionMagics",
        "magic": "BasicMagics",
        "man": "KernelMagics",
        "matplotlib": "PylabMagics",
        "mkdir": "Other",
        "more": "KernelMagics",
        "mv": "Other",
        "notebook": "BasicMagics",
        "page": "BasicMagics",
        "pastebin": "CodeMagics",
        "pdb": "ExecutionMagics",
        "pdef": "NamespaceMagics",
        "pdoc": "NamespaceMagics",
        "pfile": "NamespaceMagics",
        "pinfo": "NamespaceMagics",
        "pinfo2": "NamespaceMagics",
        "pip": "PackagingMagics",
        "popd": "OSMagics",
        "pprint": "BasicMagics",
        "precision": "BasicMagics",
        "prun": "ExecutionMagics",
        "psearch": "NamespaceMagics",
        "psource": "NamespaceMagics",
        "pushd": "OSMagics",
        "pwd": "OSMagics",
        "pycat": "OSMagics",
        "pylab": "PylabMagics",
        "qtconsole": "KernelMagics",
        "quickref": "BasicMagics",
        "recall": "HistoryMagics",
        "rehashx": "OSMagics",
        "reload_ext": "ExtensionMagics",
        "rep": "Other",
        "rerun": "HistoryMagics",
        "reset": "NamespaceMagics",
        "reset_selective": "NamespaceMagics",
        "rm": "Other",
        "rmdir": "Other",
        "run": "ExecutionMagics",
        "save": "CodeMagics",
        "sc": "OSMagics",
        "set_env": "OSMagics",
        "store": "StoreMagics",
        "sx": "OSMagics",
        "system": "OSMagics",
        "tb": "ExecutionMagics",
        "time": "ExecutionMagics",
        "timeit": "ExecutionMagics",
        "unalias": "OSMagics",
        "unload_ext": "ExtensionMagics",
        "who": "NamespaceMagics",
        "who_ls": "NamespaceMagics",
        "whos": "NamespaceMagics",
        "xdel": "NamespaceMagics",
        "xmode": "BasicMagics"
       }
      },
      "text/plain": [
       "Available line magics:\n",
       "%alias  %alias_magic  %autoawait  %autocall  %automagic  %autosave  %bookmark  %cat  %cd  %clear  %colors  %conda  %config  %connect_info  %cp  %debug  %dhist  %dirs  %doctest_mode  %ed  %edit  %env  %gui  %hist  %history  %killbgscripts  %ldir  %less  %lf  %lk  %ll  %load  %load_ext  %loadpy  %logoff  %logon  %logstart  %logstate  %logstop  %ls  %lsmagic  %lx  %macro  %magic  %man  %matplotlib  %mkdir  %more  %mv  %notebook  %page  %pastebin  %pdb  %pdef  %pdoc  %pfile  %pinfo  %pinfo2  %pip  %popd  %pprint  %precision  %prun  %psearch  %psource  %pushd  %pwd  %pycat  %pylab  %qtconsole  %quickref  %recall  %rehashx  %reload_ext  %rep  %rerun  %reset  %reset_selective  %rm  %rmdir  %run  %save  %sc  %set_env  %store  %sx  %system  %tb  %time  %timeit  %unalias  %unload_ext  %who  %who_ls  %whos  %xdel  %xmode\n",
       "\n",
       "Available cell magics:\n",
       "%%!  %%HTML  %%SVG  %%bash  %%capture  %%debug  %%file  %%html  %%javascript  %%js  %%latex  %%markdown  %%perl  %%prun  %%pypy  %%python  %%python2  %%python3  %%ruby  %%script  %%sh  %%svg  %%sx  %%system  %%time  %%timeit  %%writefile\n",
       "\n",
       "Automagic is ON, % prefix IS NOT needed for line magics."
      ]
     },
     "execution_count": 2,
     "metadata": {},
     "output_type": "execute_result"
    }
   ],
   "source": [
    "lsmagic"
   ]
  },
  {
   "cell_type": "code",
   "execution_count": null,
   "id": "224e08d8",
   "metadata": {},
   "outputs": [],
   "source": []
  }
 ],
 "metadata": {
  "kernelspec": {
   "display_name": "Python 3 (ipykernel)",
   "language": "python",
   "name": "python3"
  },
  "language_info": {
   "codemirror_mode": {
    "name": "ipython",
    "version": 3
   },
   "file_extension": ".py",
   "mimetype": "text/x-python",
   "name": "python",
   "nbconvert_exporter": "python",
   "pygments_lexer": "ipython3",
   "version": "3.9.7"
  },
  "toc": {
   "base_numbering": 1,
   "nav_menu": {},
   "number_sections": true,
   "sideBar": true,
   "skip_h1_title": false,
   "title_cell": "Table of Contents",
   "title_sidebar": "Contents",
   "toc_cell": false,
   "toc_position": {},
   "toc_section_display": true,
   "toc_window_display": false
  },
  "varInspector": {
   "cols": {
    "lenName": 16,
    "lenType": 16,
    "lenVar": 40
   },
   "kernels_config": {
    "python": {
     "delete_cmd_postfix": "",
     "delete_cmd_prefix": "del ",
     "library": "var_list.py",
     "varRefreshCmd": "print(var_dic_list())"
    },
    "r": {
     "delete_cmd_postfix": ") ",
     "delete_cmd_prefix": "rm(",
     "library": "var_list.r",
     "varRefreshCmd": "cat(var_dic_list()) "
    }
   },
   "types_to_exclude": [
    "module",
    "function",
    "builtin_function_or_method",
    "instance",
    "_Feature"
   ],
   "window_display": false
  }
 },
 "nbformat": 4,
 "nbformat_minor": 5
}
