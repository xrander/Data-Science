{
 "cells": [
  {
   "cell_type": "markdown",
   "id": "2a394f8d",
   "metadata": {},
   "source": [
    "### Filtering Pandas Dataframe\n",
    "1. by using ***logical operators***, we can use the < or > to filter out particular results we interested in.\n",
    "2. by using ***multiple logical operators*** and connecting them using & or |.\n",
    "3. by using ***isin***\n",
    "4. by using **str*** accessor (This have multiple functions and methods for filtering data in a flexible way), can be used to know the start and also to know what columns contain what\n",
    "5. by using ***query***\n",
    "    ```python\n",
    "        df.query ('variable'='argument'and 'variable'='argument')\n",
    "        \n",
    "    ```\n",
    "6. ****Nlargest or Nsmallest***, this is useful for the selection of rows the highest or lowest value in a column, respectively\n",
    "    ``` python\n",
    "    df.nlargest(size_of_output, column_of_interest)\n",
    "    df.nsmallest(size_of_output, column_of_interest)\n",
    "    ```\n",
    "7. using ***Tilde(~)*** this is used for 'not' logic in filtering\n",
    "    ```python\n",
    "        df[~df_name.column_name=='argument']\n",
    "    ```\n",
    "\n",
    "8. using the ***loc and iloc*** this is used to select rows and columns based on index or label\n",
    "    - loc: select rows or columns using labels\n",
    "    - iloc: select rows or columns using indices\n",
    "    They can only select a particular dataframe without specifying a condition.\n",
    "    ```python\n",
    "        df.loc['label1', 'label2']\n",
    "        df.iloc[3:5, :]\n",
    "    ```\n",
    "    after the column symbol signifies label or column argument selection\n",
    "    \n",
    "       "
   ]
  },
  {
   "cell_type": "code",
   "execution_count": 1,
   "id": "49772f59",
   "metadata": {
    "ExecuteTime": {
     "end_time": "2022-03-04T18:50:56.627298Z",
     "start_time": "2022-03-04T18:50:56.619715Z"
    }
   },
   "outputs": [],
   "source": [
    "import numpy as np"
   ]
  },
  {
   "cell_type": "code",
   "execution_count": 2,
   "id": "7b784985",
   "metadata": {
    "ExecuteTime": {
     "end_time": "2022-03-04T18:51:09.179400Z",
     "start_time": "2022-03-04T18:51:08.909766Z"
    }
   },
   "outputs": [],
   "source": [
    "import pandas as pd"
   ]
  },
  {
   "cell_type": "code",
   "execution_count": 14,
   "id": "b94156de",
   "metadata": {
    "ExecuteTime": {
     "end_time": "2022-03-04T19:20:50.948818Z",
     "start_time": "2022-03-04T19:20:50.941131Z"
    }
   },
   "outputs": [],
   "source": [
    "df = pd.DataFrame({'name':['olamide', 'james', 'mallory', 'dennis', 'kennedy', 'paul', 'isaac', 'emmanuel'], \n",
    "                  'ctg': ['A', 'B', 'C', 'A', 'B', 'C', 'A', 'A'],\n",
    "                   'val': np.random.random(8).round(2),\n",
    "                   'val2': np.random.randint(1,10,size =8)\n",
    "                   \n",
    "                  })"
   ]
  },
  {
   "cell_type": "code",
   "execution_count": 15,
   "id": "d3f79527",
   "metadata": {
    "ExecuteTime": {
     "end_time": "2022-03-04T19:20:52.777156Z",
     "start_time": "2022-03-04T19:20:52.761670Z"
    },
    "scrolled": true
   },
   "outputs": [
    {
     "data": {
      "text/html": [
       "<div>\n",
       "<style scoped>\n",
       "    .dataframe tbody tr th:only-of-type {\n",
       "        vertical-align: middle;\n",
       "    }\n",
       "\n",
       "    .dataframe tbody tr th {\n",
       "        vertical-align: top;\n",
       "    }\n",
       "\n",
       "    .dataframe thead th {\n",
       "        text-align: right;\n",
       "    }\n",
       "</style>\n",
       "<table border=\"1\" class=\"dataframe\">\n",
       "  <thead>\n",
       "    <tr style=\"text-align: right;\">\n",
       "      <th></th>\n",
       "      <th>name</th>\n",
       "      <th>ctg</th>\n",
       "      <th>val</th>\n",
       "      <th>val2</th>\n",
       "    </tr>\n",
       "  </thead>\n",
       "  <tbody>\n",
       "    <tr>\n",
       "      <th>0</th>\n",
       "      <td>olamide</td>\n",
       "      <td>A</td>\n",
       "      <td>0.46</td>\n",
       "      <td>3</td>\n",
       "    </tr>\n",
       "    <tr>\n",
       "      <th>1</th>\n",
       "      <td>james</td>\n",
       "      <td>B</td>\n",
       "      <td>0.53</td>\n",
       "      <td>1</td>\n",
       "    </tr>\n",
       "    <tr>\n",
       "      <th>2</th>\n",
       "      <td>mallory</td>\n",
       "      <td>C</td>\n",
       "      <td>0.15</td>\n",
       "      <td>2</td>\n",
       "    </tr>\n",
       "    <tr>\n",
       "      <th>3</th>\n",
       "      <td>dennis</td>\n",
       "      <td>A</td>\n",
       "      <td>0.71</td>\n",
       "      <td>2</td>\n",
       "    </tr>\n",
       "    <tr>\n",
       "      <th>4</th>\n",
       "      <td>kennedy</td>\n",
       "      <td>B</td>\n",
       "      <td>0.57</td>\n",
       "      <td>1</td>\n",
       "    </tr>\n",
       "    <tr>\n",
       "      <th>5</th>\n",
       "      <td>paul</td>\n",
       "      <td>C</td>\n",
       "      <td>0.46</td>\n",
       "      <td>4</td>\n",
       "    </tr>\n",
       "    <tr>\n",
       "      <th>6</th>\n",
       "      <td>isaac</td>\n",
       "      <td>A</td>\n",
       "      <td>0.83</td>\n",
       "      <td>4</td>\n",
       "    </tr>\n",
       "    <tr>\n",
       "      <th>7</th>\n",
       "      <td>emmanuel</td>\n",
       "      <td>A</td>\n",
       "      <td>0.69</td>\n",
       "      <td>3</td>\n",
       "    </tr>\n",
       "  </tbody>\n",
       "</table>\n",
       "</div>"
      ],
      "text/plain": [
       "       name ctg   val  val2\n",
       "0   olamide   A  0.46     3\n",
       "1     james   B  0.53     1\n",
       "2   mallory   C  0.15     2\n",
       "3    dennis   A  0.71     2\n",
       "4   kennedy   B  0.57     1\n",
       "5      paul   C  0.46     4\n",
       "6     isaac   A  0.83     4\n",
       "7  emmanuel   A  0.69     3"
      ]
     },
     "execution_count": 15,
     "metadata": {},
     "output_type": "execute_result"
    }
   ],
   "source": [
    "df"
   ]
  },
  {
   "cell_type": "code",
   "execution_count": 16,
   "id": "889f10a1",
   "metadata": {
    "ExecuteTime": {
     "end_time": "2022-03-04T19:20:55.589341Z",
     "start_time": "2022-03-04T19:20:55.576656Z"
    }
   },
   "outputs": [
    {
     "data": {
      "text/html": [
       "<div>\n",
       "<style scoped>\n",
       "    .dataframe tbody tr th:only-of-type {\n",
       "        vertical-align: middle;\n",
       "    }\n",
       "\n",
       "    .dataframe tbody tr th {\n",
       "        vertical-align: top;\n",
       "    }\n",
       "\n",
       "    .dataframe thead th {\n",
       "        text-align: right;\n",
       "    }\n",
       "</style>\n",
       "<table border=\"1\" class=\"dataframe\">\n",
       "  <thead>\n",
       "    <tr style=\"text-align: right;\">\n",
       "      <th></th>\n",
       "      <th>name</th>\n",
       "      <th>ctg</th>\n",
       "      <th>val</th>\n",
       "      <th>val2</th>\n",
       "    </tr>\n",
       "  </thead>\n",
       "  <tbody>\n",
       "    <tr>\n",
       "      <th>1</th>\n",
       "      <td>james</td>\n",
       "      <td>B</td>\n",
       "      <td>0.53</td>\n",
       "      <td>1</td>\n",
       "    </tr>\n",
       "    <tr>\n",
       "      <th>3</th>\n",
       "      <td>dennis</td>\n",
       "      <td>A</td>\n",
       "      <td>0.71</td>\n",
       "      <td>2</td>\n",
       "    </tr>\n",
       "    <tr>\n",
       "      <th>4</th>\n",
       "      <td>kennedy</td>\n",
       "      <td>B</td>\n",
       "      <td>0.57</td>\n",
       "      <td>1</td>\n",
       "    </tr>\n",
       "    <tr>\n",
       "      <th>6</th>\n",
       "      <td>isaac</td>\n",
       "      <td>A</td>\n",
       "      <td>0.83</td>\n",
       "      <td>4</td>\n",
       "    </tr>\n",
       "    <tr>\n",
       "      <th>7</th>\n",
       "      <td>emmanuel</td>\n",
       "      <td>A</td>\n",
       "      <td>0.69</td>\n",
       "      <td>3</td>\n",
       "    </tr>\n",
       "  </tbody>\n",
       "</table>\n",
       "</div>"
      ],
      "text/plain": [
       "       name ctg   val  val2\n",
       "1     james   B  0.53     1\n",
       "3    dennis   A  0.71     2\n",
       "4   kennedy   B  0.57     1\n",
       "6     isaac   A  0.83     4\n",
       "7  emmanuel   A  0.69     3"
      ]
     },
     "execution_count": 16,
     "metadata": {},
     "output_type": "execute_result"
    }
   ],
   "source": [
    "df [df.val>0.5]"
   ]
  },
  {
   "cell_type": "code",
   "execution_count": 17,
   "id": "5563e57a",
   "metadata": {
    "ExecuteTime": {
     "end_time": "2022-03-04T19:20:57.788084Z",
     "start_time": "2022-03-04T19:20:57.774150Z"
    }
   },
   "outputs": [
    {
     "data": {
      "text/html": [
       "<div>\n",
       "<style scoped>\n",
       "    .dataframe tbody tr th:only-of-type {\n",
       "        vertical-align: middle;\n",
       "    }\n",
       "\n",
       "    .dataframe tbody tr th {\n",
       "        vertical-align: top;\n",
       "    }\n",
       "\n",
       "    .dataframe thead th {\n",
       "        text-align: right;\n",
       "    }\n",
       "</style>\n",
       "<table border=\"1\" class=\"dataframe\">\n",
       "  <thead>\n",
       "    <tr style=\"text-align: right;\">\n",
       "      <th></th>\n",
       "      <th>name</th>\n",
       "      <th>ctg</th>\n",
       "      <th>val</th>\n",
       "      <th>val2</th>\n",
       "    </tr>\n",
       "  </thead>\n",
       "  <tbody>\n",
       "    <tr>\n",
       "      <th>0</th>\n",
       "      <td>olamide</td>\n",
       "      <td>A</td>\n",
       "      <td>0.46</td>\n",
       "      <td>3</td>\n",
       "    </tr>\n",
       "    <tr>\n",
       "      <th>5</th>\n",
       "      <td>paul</td>\n",
       "      <td>C</td>\n",
       "      <td>0.46</td>\n",
       "      <td>4</td>\n",
       "    </tr>\n",
       "    <tr>\n",
       "      <th>7</th>\n",
       "      <td>emmanuel</td>\n",
       "      <td>A</td>\n",
       "      <td>0.69</td>\n",
       "      <td>3</td>\n",
       "    </tr>\n",
       "  </tbody>\n",
       "</table>\n",
       "</div>"
      ],
      "text/plain": [
       "       name ctg   val  val2\n",
       "0   olamide   A  0.46     3\n",
       "5      paul   C  0.46     4\n",
       "7  emmanuel   A  0.69     3"
      ]
     },
     "execution_count": 17,
     "metadata": {},
     "output_type": "execute_result"
    }
   ],
   "source": [
    "df [(df.val<0.8) & (df.val2>2)]"
   ]
  },
  {
   "cell_type": "code",
   "execution_count": 18,
   "id": "4dc1c894",
   "metadata": {
    "ExecuteTime": {
     "end_time": "2022-03-04T19:21:00.811272Z",
     "start_time": "2022-03-04T19:21:00.801142Z"
    }
   },
   "outputs": [
    {
     "data": {
      "text/html": [
       "<div>\n",
       "<style scoped>\n",
       "    .dataframe tbody tr th:only-of-type {\n",
       "        vertical-align: middle;\n",
       "    }\n",
       "\n",
       "    .dataframe tbody tr th {\n",
       "        vertical-align: top;\n",
       "    }\n",
       "\n",
       "    .dataframe thead th {\n",
       "        text-align: right;\n",
       "    }\n",
       "</style>\n",
       "<table border=\"1\" class=\"dataframe\">\n",
       "  <thead>\n",
       "    <tr style=\"text-align: right;\">\n",
       "      <th></th>\n",
       "      <th>name</th>\n",
       "      <th>ctg</th>\n",
       "      <th>val</th>\n",
       "      <th>val2</th>\n",
       "    </tr>\n",
       "  </thead>\n",
       "  <tbody>\n",
       "    <tr>\n",
       "      <th>5</th>\n",
       "      <td>paul</td>\n",
       "      <td>C</td>\n",
       "      <td>0.46</td>\n",
       "      <td>4</td>\n",
       "    </tr>\n",
       "  </tbody>\n",
       "</table>\n",
       "</div>"
      ],
      "text/plain": [
       "   name ctg   val  val2\n",
       "5  paul   C  0.46     4"
      ]
     },
     "execution_count": 18,
     "metadata": {},
     "output_type": "execute_result"
    }
   ],
   "source": [
    "df [(df.val<0.8) & (df.val2==4)]"
   ]
  },
  {
   "cell_type": "code",
   "execution_count": 19,
   "id": "97e7e028",
   "metadata": {
    "ExecuteTime": {
     "end_time": "2022-03-04T19:21:04.036713Z",
     "start_time": "2022-03-04T19:21:04.033433Z"
    }
   },
   "outputs": [],
   "source": [
    "names = ['olamide', 'paul', 'emmanuel']"
   ]
  },
  {
   "cell_type": "code",
   "execution_count": 20,
   "id": "c7fc0f6c",
   "metadata": {
    "ExecuteTime": {
     "end_time": "2022-03-04T19:21:04.915537Z",
     "start_time": "2022-03-04T19:21:04.903062Z"
    }
   },
   "outputs": [
    {
     "data": {
      "text/html": [
       "<div>\n",
       "<style scoped>\n",
       "    .dataframe tbody tr th:only-of-type {\n",
       "        vertical-align: middle;\n",
       "    }\n",
       "\n",
       "    .dataframe tbody tr th {\n",
       "        vertical-align: top;\n",
       "    }\n",
       "\n",
       "    .dataframe thead th {\n",
       "        text-align: right;\n",
       "    }\n",
       "</style>\n",
       "<table border=\"1\" class=\"dataframe\">\n",
       "  <thead>\n",
       "    <tr style=\"text-align: right;\">\n",
       "      <th></th>\n",
       "      <th>name</th>\n",
       "      <th>ctg</th>\n",
       "      <th>val</th>\n",
       "      <th>val2</th>\n",
       "    </tr>\n",
       "  </thead>\n",
       "  <tbody>\n",
       "    <tr>\n",
       "      <th>0</th>\n",
       "      <td>olamide</td>\n",
       "      <td>A</td>\n",
       "      <td>0.46</td>\n",
       "      <td>3</td>\n",
       "    </tr>\n",
       "    <tr>\n",
       "      <th>5</th>\n",
       "      <td>paul</td>\n",
       "      <td>C</td>\n",
       "      <td>0.46</td>\n",
       "      <td>4</td>\n",
       "    </tr>\n",
       "    <tr>\n",
       "      <th>7</th>\n",
       "      <td>emmanuel</td>\n",
       "      <td>A</td>\n",
       "      <td>0.69</td>\n",
       "      <td>3</td>\n",
       "    </tr>\n",
       "  </tbody>\n",
       "</table>\n",
       "</div>"
      ],
      "text/plain": [
       "       name ctg   val  val2\n",
       "0   olamide   A  0.46     3\n",
       "5      paul   C  0.46     4\n",
       "7  emmanuel   A  0.69     3"
      ]
     },
     "execution_count": 20,
     "metadata": {},
     "output_type": "execute_result"
    }
   ],
   "source": [
    "df[df.name.isin(names)]"
   ]
  },
  {
   "cell_type": "code",
   "execution_count": 23,
   "id": "63b78bf7",
   "metadata": {
    "ExecuteTime": {
     "end_time": "2022-03-04T19:40:45.798876Z",
     "start_time": "2022-03-04T19:40:45.776229Z"
    }
   },
   "outputs": [
    {
     "data": {
      "text/html": [
       "<div>\n",
       "<style scoped>\n",
       "    .dataframe tbody tr th:only-of-type {\n",
       "        vertical-align: middle;\n",
       "    }\n",
       "\n",
       "    .dataframe tbody tr th {\n",
       "        vertical-align: top;\n",
       "    }\n",
       "\n",
       "    .dataframe thead th {\n",
       "        text-align: right;\n",
       "    }\n",
       "</style>\n",
       "<table border=\"1\" class=\"dataframe\">\n",
       "  <thead>\n",
       "    <tr style=\"text-align: right;\">\n",
       "      <th></th>\n",
       "      <th>name</th>\n",
       "      <th>ctg</th>\n",
       "      <th>val</th>\n",
       "      <th>val2</th>\n",
       "    </tr>\n",
       "  </thead>\n",
       "  <tbody>\n",
       "    <tr>\n",
       "      <th>7</th>\n",
       "      <td>emmanuel</td>\n",
       "      <td>A</td>\n",
       "      <td>0.69</td>\n",
       "      <td>3</td>\n",
       "    </tr>\n",
       "  </tbody>\n",
       "</table>\n",
       "</div>"
      ],
      "text/plain": [
       "       name ctg   val  val2\n",
       "7  emmanuel   A  0.69     3"
      ]
     },
     "execution_count": 23,
     "metadata": {},
     "output_type": "execute_result"
    }
   ],
   "source": [
    "df[df.name.str.startswith('e')]"
   ]
  },
  {
   "cell_type": "code",
   "execution_count": 26,
   "id": "713a61f9",
   "metadata": {
    "ExecuteTime": {
     "end_time": "2022-03-04T19:43:13.048630Z",
     "start_time": "2022-03-04T19:43:13.024593Z"
    }
   },
   "outputs": [
    {
     "data": {
      "text/html": [
       "<div>\n",
       "<style scoped>\n",
       "    .dataframe tbody tr th:only-of-type {\n",
       "        vertical-align: middle;\n",
       "    }\n",
       "\n",
       "    .dataframe tbody tr th {\n",
       "        vertical-align: top;\n",
       "    }\n",
       "\n",
       "    .dataframe thead th {\n",
       "        text-align: right;\n",
       "    }\n",
       "</style>\n",
       "<table border=\"1\" class=\"dataframe\">\n",
       "  <thead>\n",
       "    <tr style=\"text-align: right;\">\n",
       "      <th></th>\n",
       "      <th>name</th>\n",
       "      <th>ctg</th>\n",
       "      <th>val</th>\n",
       "      <th>val2</th>\n",
       "    </tr>\n",
       "  </thead>\n",
       "  <tbody>\n",
       "    <tr>\n",
       "      <th>0</th>\n",
       "      <td>olamide</td>\n",
       "      <td>A</td>\n",
       "      <td>0.46</td>\n",
       "      <td>3</td>\n",
       "    </tr>\n",
       "    <tr>\n",
       "      <th>2</th>\n",
       "      <td>mallory</td>\n",
       "      <td>C</td>\n",
       "      <td>0.15</td>\n",
       "      <td>2</td>\n",
       "    </tr>\n",
       "    <tr>\n",
       "      <th>5</th>\n",
       "      <td>paul</td>\n",
       "      <td>C</td>\n",
       "      <td>0.46</td>\n",
       "      <td>4</td>\n",
       "    </tr>\n",
       "    <tr>\n",
       "      <th>7</th>\n",
       "      <td>emmanuel</td>\n",
       "      <td>A</td>\n",
       "      <td>0.69</td>\n",
       "      <td>3</td>\n",
       "    </tr>\n",
       "  </tbody>\n",
       "</table>\n",
       "</div>"
      ],
      "text/plain": [
       "       name ctg   val  val2\n",
       "0   olamide   A  0.46     3\n",
       "2   mallory   C  0.15     2\n",
       "5      paul   C  0.46     4\n",
       "7  emmanuel   A  0.69     3"
      ]
     },
     "execution_count": 26,
     "metadata": {},
     "output_type": "execute_result"
    }
   ],
   "source": [
    "df[df.name.str.contains('l')]"
   ]
  },
  {
   "cell_type": "code",
   "execution_count": 30,
   "id": "5bfebf5b",
   "metadata": {
    "ExecuteTime": {
     "end_time": "2022-03-04T19:46:08.214521Z",
     "start_time": "2022-03-04T19:46:08.176399Z"
    }
   },
   "outputs": [
    {
     "data": {
      "text/html": [
       "<div>\n",
       "<style scoped>\n",
       "    .dataframe tbody tr th:only-of-type {\n",
       "        vertical-align: middle;\n",
       "    }\n",
       "\n",
       "    .dataframe tbody tr th {\n",
       "        vertical-align: top;\n",
       "    }\n",
       "\n",
       "    .dataframe thead th {\n",
       "        text-align: right;\n",
       "    }\n",
       "</style>\n",
       "<table border=\"1\" class=\"dataframe\">\n",
       "  <thead>\n",
       "    <tr style=\"text-align: right;\">\n",
       "      <th></th>\n",
       "      <th>name</th>\n",
       "      <th>ctg</th>\n",
       "      <th>val</th>\n",
       "      <th>val2</th>\n",
       "    </tr>\n",
       "  </thead>\n",
       "  <tbody>\n",
       "    <tr>\n",
       "      <th>0</th>\n",
       "      <td>olamide</td>\n",
       "      <td>A</td>\n",
       "      <td>0.46</td>\n",
       "      <td>3</td>\n",
       "    </tr>\n",
       "    <tr>\n",
       "      <th>3</th>\n",
       "      <td>dennis</td>\n",
       "      <td>A</td>\n",
       "      <td>0.71</td>\n",
       "      <td>2</td>\n",
       "    </tr>\n",
       "    <tr>\n",
       "      <th>6</th>\n",
       "      <td>isaac</td>\n",
       "      <td>A</td>\n",
       "      <td>0.83</td>\n",
       "      <td>4</td>\n",
       "    </tr>\n",
       "    <tr>\n",
       "      <th>7</th>\n",
       "      <td>emmanuel</td>\n",
       "      <td>A</td>\n",
       "      <td>0.69</td>\n",
       "      <td>3</td>\n",
       "    </tr>\n",
       "  </tbody>\n",
       "</table>\n",
       "</div>"
      ],
      "text/plain": [
       "       name ctg   val  val2\n",
       "0   olamide   A  0.46     3\n",
       "3    dennis   A  0.71     2\n",
       "6     isaac   A  0.83     4\n",
       "7  emmanuel   A  0.69     3"
      ]
     },
     "execution_count": 30,
     "metadata": {},
     "output_type": "execute_result"
    }
   ],
   "source": [
    "df.query ('ctg == \"A\" and val > 0.20')"
   ]
  },
  {
   "cell_type": "code",
   "execution_count": 35,
   "id": "26978eb8",
   "metadata": {
    "ExecuteTime": {
     "end_time": "2022-03-04T19:49:40.311048Z",
     "start_time": "2022-03-04T19:49:40.298263Z"
    }
   },
   "outputs": [
    {
     "data": {
      "text/html": [
       "<div>\n",
       "<style scoped>\n",
       "    .dataframe tbody tr th:only-of-type {\n",
       "        vertical-align: middle;\n",
       "    }\n",
       "\n",
       "    .dataframe tbody tr th {\n",
       "        vertical-align: top;\n",
       "    }\n",
       "\n",
       "    .dataframe thead th {\n",
       "        text-align: right;\n",
       "    }\n",
       "</style>\n",
       "<table border=\"1\" class=\"dataframe\">\n",
       "  <thead>\n",
       "    <tr style=\"text-align: right;\">\n",
       "      <th></th>\n",
       "      <th>name</th>\n",
       "      <th>ctg</th>\n",
       "      <th>val</th>\n",
       "      <th>val2</th>\n",
       "    </tr>\n",
       "  </thead>\n",
       "  <tbody>\n",
       "    <tr>\n",
       "      <th>6</th>\n",
       "      <td>isaac</td>\n",
       "      <td>A</td>\n",
       "      <td>0.83</td>\n",
       "      <td>4</td>\n",
       "    </tr>\n",
       "    <tr>\n",
       "      <th>3</th>\n",
       "      <td>dennis</td>\n",
       "      <td>A</td>\n",
       "      <td>0.71</td>\n",
       "      <td>2</td>\n",
       "    </tr>\n",
       "    <tr>\n",
       "      <th>7</th>\n",
       "      <td>emmanuel</td>\n",
       "      <td>A</td>\n",
       "      <td>0.69</td>\n",
       "      <td>3</td>\n",
       "    </tr>\n",
       "  </tbody>\n",
       "</table>\n",
       "</div>"
      ],
      "text/plain": [
       "       name ctg   val  val2\n",
       "6     isaac   A  0.83     4\n",
       "3    dennis   A  0.71     2\n",
       "7  emmanuel   A  0.69     3"
      ]
     },
     "execution_count": 35,
     "metadata": {},
     "output_type": "execute_result"
    }
   ],
   "source": [
    "df.nlargest(3, 'val')"
   ]
  },
  {
   "cell_type": "code",
   "execution_count": 34,
   "id": "c8251e92",
   "metadata": {
    "ExecuteTime": {
     "end_time": "2022-03-04T19:49:33.396440Z",
     "start_time": "2022-03-04T19:49:33.384692Z"
    }
   },
   "outputs": [
    {
     "data": {
      "text/html": [
       "<div>\n",
       "<style scoped>\n",
       "    .dataframe tbody tr th:only-of-type {\n",
       "        vertical-align: middle;\n",
       "    }\n",
       "\n",
       "    .dataframe tbody tr th {\n",
       "        vertical-align: top;\n",
       "    }\n",
       "\n",
       "    .dataframe thead th {\n",
       "        text-align: right;\n",
       "    }\n",
       "</style>\n",
       "<table border=\"1\" class=\"dataframe\">\n",
       "  <thead>\n",
       "    <tr style=\"text-align: right;\">\n",
       "      <th></th>\n",
       "      <th>name</th>\n",
       "      <th>ctg</th>\n",
       "      <th>val</th>\n",
       "      <th>val2</th>\n",
       "    </tr>\n",
       "  </thead>\n",
       "  <tbody>\n",
       "    <tr>\n",
       "      <th>1</th>\n",
       "      <td>james</td>\n",
       "      <td>B</td>\n",
       "      <td>0.53</td>\n",
       "      <td>1</td>\n",
       "    </tr>\n",
       "  </tbody>\n",
       "</table>\n",
       "</div>"
      ],
      "text/plain": [
       "    name ctg   val  val2\n",
       "1  james   B  0.53     1"
      ]
     },
     "execution_count": 34,
     "metadata": {},
     "output_type": "execute_result"
    }
   ],
   "source": [
    "df.nsmallest(1, 'val2')"
   ]
  },
  {
   "cell_type": "code",
   "execution_count": 36,
   "id": "0746f6a0",
   "metadata": {
    "ExecuteTime": {
     "end_time": "2022-03-04T20:14:24.922305Z",
     "start_time": "2022-03-04T20:14:24.904718Z"
    }
   },
   "outputs": [
    {
     "data": {
      "text/html": [
       "<div>\n",
       "<style scoped>\n",
       "    .dataframe tbody tr th:only-of-type {\n",
       "        vertical-align: middle;\n",
       "    }\n",
       "\n",
       "    .dataframe tbody tr th {\n",
       "        vertical-align: top;\n",
       "    }\n",
       "\n",
       "    .dataframe thead th {\n",
       "        text-align: right;\n",
       "    }\n",
       "</style>\n",
       "<table border=\"1\" class=\"dataframe\">\n",
       "  <thead>\n",
       "    <tr style=\"text-align: right;\">\n",
       "      <th></th>\n",
       "      <th>name</th>\n",
       "      <th>ctg</th>\n",
       "      <th>val</th>\n",
       "      <th>val2</th>\n",
       "    </tr>\n",
       "  </thead>\n",
       "  <tbody>\n",
       "    <tr>\n",
       "      <th>0</th>\n",
       "      <td>olamide</td>\n",
       "      <td>A</td>\n",
       "      <td>0.46</td>\n",
       "      <td>3</td>\n",
       "    </tr>\n",
       "    <tr>\n",
       "      <th>2</th>\n",
       "      <td>mallory</td>\n",
       "      <td>C</td>\n",
       "      <td>0.15</td>\n",
       "      <td>2</td>\n",
       "    </tr>\n",
       "    <tr>\n",
       "      <th>3</th>\n",
       "      <td>dennis</td>\n",
       "      <td>A</td>\n",
       "      <td>0.71</td>\n",
       "      <td>2</td>\n",
       "    </tr>\n",
       "    <tr>\n",
       "      <th>4</th>\n",
       "      <td>kennedy</td>\n",
       "      <td>B</td>\n",
       "      <td>0.57</td>\n",
       "      <td>1</td>\n",
       "    </tr>\n",
       "    <tr>\n",
       "      <th>5</th>\n",
       "      <td>paul</td>\n",
       "      <td>C</td>\n",
       "      <td>0.46</td>\n",
       "      <td>4</td>\n",
       "    </tr>\n",
       "    <tr>\n",
       "      <th>6</th>\n",
       "      <td>isaac</td>\n",
       "      <td>A</td>\n",
       "      <td>0.83</td>\n",
       "      <td>4</td>\n",
       "    </tr>\n",
       "    <tr>\n",
       "      <th>7</th>\n",
       "      <td>emmanuel</td>\n",
       "      <td>A</td>\n",
       "      <td>0.69</td>\n",
       "      <td>3</td>\n",
       "    </tr>\n",
       "  </tbody>\n",
       "</table>\n",
       "</div>"
      ],
      "text/plain": [
       "       name ctg   val  val2\n",
       "0   olamide   A  0.46     3\n",
       "2   mallory   C  0.15     2\n",
       "3    dennis   A  0.71     2\n",
       "4   kennedy   B  0.57     1\n",
       "5      paul   C  0.46     4\n",
       "6     isaac   A  0.83     4\n",
       "7  emmanuel   A  0.69     3"
      ]
     },
     "execution_count": 36,
     "metadata": {},
     "output_type": "execute_result"
    }
   ],
   "source": [
    "df[~df.name.str.startswith('j')]"
   ]
  },
  {
   "cell_type": "code",
   "execution_count": 37,
   "id": "df76b739",
   "metadata": {
    "ExecuteTime": {
     "end_time": "2022-03-04T20:34:11.505789Z",
     "start_time": "2022-03-04T20:34:11.480448Z"
    }
   },
   "outputs": [
    {
     "data": {
      "text/html": [
       "<div>\n",
       "<style scoped>\n",
       "    .dataframe tbody tr th:only-of-type {\n",
       "        vertical-align: middle;\n",
       "    }\n",
       "\n",
       "    .dataframe tbody tr th {\n",
       "        vertical-align: top;\n",
       "    }\n",
       "\n",
       "    .dataframe thead th {\n",
       "        text-align: right;\n",
       "    }\n",
       "</style>\n",
       "<table border=\"1\" class=\"dataframe\">\n",
       "  <thead>\n",
       "    <tr style=\"text-align: right;\">\n",
       "      <th></th>\n",
       "      <th>name</th>\n",
       "      <th>ctg</th>\n",
       "      <th>val</th>\n",
       "      <th>val2</th>\n",
       "    </tr>\n",
       "  </thead>\n",
       "  <tbody>\n",
       "    <tr>\n",
       "      <th>0</th>\n",
       "      <td>olamide</td>\n",
       "      <td>A</td>\n",
       "      <td>0.46</td>\n",
       "      <td>3</td>\n",
       "    </tr>\n",
       "    <tr>\n",
       "      <th>1</th>\n",
       "      <td>james</td>\n",
       "      <td>B</td>\n",
       "      <td>0.53</td>\n",
       "      <td>1</td>\n",
       "    </tr>\n",
       "    <tr>\n",
       "      <th>2</th>\n",
       "      <td>mallory</td>\n",
       "      <td>C</td>\n",
       "      <td>0.15</td>\n",
       "      <td>2</td>\n",
       "    </tr>\n",
       "    <tr>\n",
       "      <th>3</th>\n",
       "      <td>dennis</td>\n",
       "      <td>A</td>\n",
       "      <td>0.71</td>\n",
       "      <td>2</td>\n",
       "    </tr>\n",
       "    <tr>\n",
       "      <th>4</th>\n",
       "      <td>kennedy</td>\n",
       "      <td>B</td>\n",
       "      <td>0.57</td>\n",
       "      <td>1</td>\n",
       "    </tr>\n",
       "  </tbody>\n",
       "</table>\n",
       "</div>"
      ],
      "text/plain": [
       "      name ctg   val  val2\n",
       "0  olamide   A  0.46     3\n",
       "1    james   B  0.53     1\n",
       "2  mallory   C  0.15     2\n",
       "3   dennis   A  0.71     2\n",
       "4  kennedy   B  0.57     1"
      ]
     },
     "execution_count": 37,
     "metadata": {},
     "output_type": "execute_result"
    }
   ],
   "source": [
    "df.iloc[0:5, :]"
   ]
  },
  {
   "cell_type": "markdown",
   "id": "7e672d52",
   "metadata": {},
   "source": [
    "### How to Use Loc in Pandas\n",
    "when using loc we specify the rows and columns we want.\n",
    "```python\n",
    "    dataframe.loc[specified rows: specified columns]\n",
    "```\n",
    "it can be used in conjuction with slices (:).\n",
    "```python\n",
    "    startlabel:stoplabel\n",
    "```\n",
    "we can also use an array of boolean values, to return true or false results and the best way is using a **condtional** which creates an alignable boolean series.\n",
    "- callable functions: this involves the use of the lambda function (the lambda function is an anonymous function that runs on a single expression with multiple arguments).\n"
   ]
  },
  {
   "cell_type": "code",
   "execution_count": 39,
   "id": "cb53b417",
   "metadata": {
    "ExecuteTime": {
     "end_time": "2022-03-04T20:45:50.961449Z",
     "start_time": "2022-03-04T20:45:50.732196Z"
    }
   },
   "outputs": [],
   "source": [
    "ufo = pd.read_csv('http://bit.ly/uforeports')"
   ]
  },
  {
   "cell_type": "code",
   "execution_count": 42,
   "id": "ec8eaadb",
   "metadata": {
    "ExecuteTime": {
     "end_time": "2022-03-04T20:46:27.972044Z",
     "start_time": "2022-03-04T20:46:27.956070Z"
    }
   },
   "outputs": [
    {
     "data": {
      "text/plain": [
       "(18241, 5)"
      ]
     },
     "execution_count": 42,
     "metadata": {},
     "output_type": "execute_result"
    }
   ],
   "source": [
    "ufo.shape"
   ]
  },
  {
   "cell_type": "code",
   "execution_count": 44,
   "id": "2b34282f",
   "metadata": {
    "ExecuteTime": {
     "end_time": "2022-03-04T21:06:55.734986Z",
     "start_time": "2022-03-04T21:06:55.719814Z"
    }
   },
   "outputs": [
    {
     "data": {
      "text/plain": [
       "City               New York Worlds Fair\n",
       "Colors Reported                     NaN\n",
       "Shape Reported                    LIGHT\n",
       "State                                NY\n",
       "Time                    4/18/1933 19:00\n",
       "Name: 4, dtype: object"
      ]
     },
     "execution_count": 44,
     "metadata": {},
     "output_type": "execute_result"
    }
   ],
   "source": [
    "uf0.iloc[4,: ]"
   ]
  },
  {
   "cell_type": "code",
   "execution_count": 46,
   "id": "dc23cd9c",
   "metadata": {
    "ExecuteTime": {
     "end_time": "2022-03-04T21:11:52.349296Z",
     "start_time": "2022-03-04T21:11:52.338581Z"
    }
   },
   "outputs": [
    {
     "data": {
      "text/html": [
       "<div>\n",
       "<style scoped>\n",
       "    .dataframe tbody tr th:only-of-type {\n",
       "        vertical-align: middle;\n",
       "    }\n",
       "\n",
       "    .dataframe tbody tr th {\n",
       "        vertical-align: top;\n",
       "    }\n",
       "\n",
       "    .dataframe thead th {\n",
       "        text-align: right;\n",
       "    }\n",
       "</style>\n",
       "<table border=\"1\" class=\"dataframe\">\n",
       "  <thead>\n",
       "    <tr style=\"text-align: right;\">\n",
       "      <th></th>\n",
       "      <th>City</th>\n",
       "      <th>Colors Reported</th>\n",
       "      <th>Shape Reported</th>\n",
       "    </tr>\n",
       "  </thead>\n",
       "  <tbody>\n",
       "    <tr>\n",
       "      <th>1</th>\n",
       "      <td>Willingboro</td>\n",
       "      <td>NaN</td>\n",
       "      <td>OTHER</td>\n",
       "    </tr>\n",
       "    <tr>\n",
       "      <th>2</th>\n",
       "      <td>Holyoke</td>\n",
       "      <td>NaN</td>\n",
       "      <td>OVAL</td>\n",
       "    </tr>\n",
       "    <tr>\n",
       "      <th>3</th>\n",
       "      <td>Abilene</td>\n",
       "      <td>NaN</td>\n",
       "      <td>DISK</td>\n",
       "    </tr>\n",
       "    <tr>\n",
       "      <th>4</th>\n",
       "      <td>New York Worlds Fair</td>\n",
       "      <td>NaN</td>\n",
       "      <td>LIGHT</td>\n",
       "    </tr>\n",
       "    <tr>\n",
       "      <th>5</th>\n",
       "      <td>Valley City</td>\n",
       "      <td>NaN</td>\n",
       "      <td>DISK</td>\n",
       "    </tr>\n",
       "    <tr>\n",
       "      <th>6</th>\n",
       "      <td>Crater Lake</td>\n",
       "      <td>NaN</td>\n",
       "      <td>CIRCLE</td>\n",
       "    </tr>\n",
       "    <tr>\n",
       "      <th>7</th>\n",
       "      <td>Alma</td>\n",
       "      <td>NaN</td>\n",
       "      <td>DISK</td>\n",
       "    </tr>\n",
       "    <tr>\n",
       "      <th>8</th>\n",
       "      <td>Eklutna</td>\n",
       "      <td>NaN</td>\n",
       "      <td>CIGAR</td>\n",
       "    </tr>\n",
       "    <tr>\n",
       "      <th>9</th>\n",
       "      <td>Hubbard</td>\n",
       "      <td>NaN</td>\n",
       "      <td>CYLINDER</td>\n",
       "    </tr>\n",
       "    <tr>\n",
       "      <th>10</th>\n",
       "      <td>Fontana</td>\n",
       "      <td>NaN</td>\n",
       "      <td>LIGHT</td>\n",
       "    </tr>\n",
       "    <tr>\n",
       "      <th>11</th>\n",
       "      <td>Waterloo</td>\n",
       "      <td>NaN</td>\n",
       "      <td>FIREBALL</td>\n",
       "    </tr>\n",
       "    <tr>\n",
       "      <th>12</th>\n",
       "      <td>Belton</td>\n",
       "      <td>RED</td>\n",
       "      <td>SPHERE</td>\n",
       "    </tr>\n",
       "    <tr>\n",
       "      <th>13</th>\n",
       "      <td>Keokuk</td>\n",
       "      <td>NaN</td>\n",
       "      <td>OVAL</td>\n",
       "    </tr>\n",
       "    <tr>\n",
       "      <th>14</th>\n",
       "      <td>Ludington</td>\n",
       "      <td>NaN</td>\n",
       "      <td>DISK</td>\n",
       "    </tr>\n",
       "    <tr>\n",
       "      <th>15</th>\n",
       "      <td>Forest Home</td>\n",
       "      <td>NaN</td>\n",
       "      <td>CIRCLE</td>\n",
       "    </tr>\n",
       "    <tr>\n",
       "      <th>16</th>\n",
       "      <td>Los Angeles</td>\n",
       "      <td>NaN</td>\n",
       "      <td>NaN</td>\n",
       "    </tr>\n",
       "    <tr>\n",
       "      <th>17</th>\n",
       "      <td>Hapeville</td>\n",
       "      <td>NaN</td>\n",
       "      <td>NaN</td>\n",
       "    </tr>\n",
       "    <tr>\n",
       "      <th>18</th>\n",
       "      <td>Oneida</td>\n",
       "      <td>NaN</td>\n",
       "      <td>RECTANGLE</td>\n",
       "    </tr>\n",
       "    <tr>\n",
       "      <th>19</th>\n",
       "      <td>Bering Sea</td>\n",
       "      <td>RED</td>\n",
       "      <td>OTHER</td>\n",
       "    </tr>\n",
       "    <tr>\n",
       "      <th>20</th>\n",
       "      <td>Nebraska</td>\n",
       "      <td>NaN</td>\n",
       "      <td>DISK</td>\n",
       "    </tr>\n",
       "  </tbody>\n",
       "</table>\n",
       "</div>"
      ],
      "text/plain": [
       "                    City Colors Reported Shape Reported\n",
       "1            Willingboro             NaN          OTHER\n",
       "2                Holyoke             NaN           OVAL\n",
       "3                Abilene             NaN           DISK\n",
       "4   New York Worlds Fair             NaN          LIGHT\n",
       "5            Valley City             NaN           DISK\n",
       "6            Crater Lake             NaN         CIRCLE\n",
       "7                   Alma             NaN           DISK\n",
       "8                Eklutna             NaN          CIGAR\n",
       "9                Hubbard             NaN       CYLINDER\n",
       "10               Fontana             NaN          LIGHT\n",
       "11              Waterloo             NaN       FIREBALL\n",
       "12                Belton             RED         SPHERE\n",
       "13                Keokuk             NaN           OVAL\n",
       "14             Ludington             NaN           DISK\n",
       "15           Forest Home             NaN         CIRCLE\n",
       "16           Los Angeles             NaN            NaN\n",
       "17             Hapeville             NaN            NaN\n",
       "18                Oneida             NaN      RECTANGLE\n",
       "19            Bering Sea             RED          OTHER\n",
       "20              Nebraska             NaN           DISK"
      ]
     },
     "execution_count": 46,
     "metadata": {},
     "output_type": "execute_result"
    }
   ],
   "source": [
    "ufo.loc[1:20, 'City':'Shape Reported']"
   ]
  },
  {
   "cell_type": "code",
   "execution_count": 49,
   "id": "38baece2",
   "metadata": {
    "ExecuteTime": {
     "end_time": "2022-03-05T07:33:20.489774Z",
     "start_time": "2022-03-05T07:33:20.466940Z"
    }
   },
   "outputs": [
    {
     "data": {
      "text/plain": [
       "0        False\n",
       "1        False\n",
       "2        False\n",
       "3        False\n",
       "4        False\n",
       "         ...  \n",
       "18236    False\n",
       "18237    False\n",
       "18238    False\n",
       "18239    False\n",
       "18240    False\n",
       "Name: City, Length: 18241, dtype: bool"
      ]
     },
     "execution_count": 49,
     "metadata": {},
     "output_type": "execute_result"
    }
   ],
   "source": [
    "ufo.City=='Keokuk'"
   ]
  },
  {
   "cell_type": "code",
   "execution_count": 51,
   "id": "4c4322ec",
   "metadata": {
    "ExecuteTime": {
     "end_time": "2022-03-05T07:33:45.375008Z",
     "start_time": "2022-03-05T07:33:45.361102Z"
    }
   },
   "outputs": [
    {
     "data": {
      "text/html": [
       "<div>\n",
       "<style scoped>\n",
       "    .dataframe tbody tr th:only-of-type {\n",
       "        vertical-align: middle;\n",
       "    }\n",
       "\n",
       "    .dataframe tbody tr th {\n",
       "        vertical-align: top;\n",
       "    }\n",
       "\n",
       "    .dataframe thead th {\n",
       "        text-align: right;\n",
       "    }\n",
       "</style>\n",
       "<table border=\"1\" class=\"dataframe\">\n",
       "  <thead>\n",
       "    <tr style=\"text-align: right;\">\n",
       "      <th></th>\n",
       "      <th>City</th>\n",
       "      <th>Colors Reported</th>\n",
       "      <th>Shape Reported</th>\n",
       "      <th>State</th>\n",
       "      <th>Time</th>\n",
       "    </tr>\n",
       "  </thead>\n",
       "  <tbody>\n",
       "    <tr>\n",
       "      <th>20</th>\n",
       "      <td>Nebraska</td>\n",
       "      <td>NaN</td>\n",
       "      <td>DISK</td>\n",
       "      <td>NE</td>\n",
       "      <td>6/1/1943 15:00</td>\n",
       "    </tr>\n",
       "    <tr>\n",
       "      <th>222</th>\n",
       "      <td>Nebraska</td>\n",
       "      <td>NaN</td>\n",
       "      <td>NaN</td>\n",
       "      <td>NE</td>\n",
       "      <td>1/1/1953 0:00</td>\n",
       "    </tr>\n",
       "  </tbody>\n",
       "</table>\n",
       "</div>"
      ],
      "text/plain": [
       "         City Colors Reported Shape Reported State            Time\n",
       "20   Nebraska             NaN           DISK    NE  6/1/1943 15:00\n",
       "222  Nebraska             NaN            NaN    NE   1/1/1953 0:00"
      ]
     },
     "execution_count": 51,
     "metadata": {},
     "output_type": "execute_result"
    }
   ],
   "source": [
    "ufo.loc[ufo.City=='Nebraska', :]"
   ]
  },
  {
   "cell_type": "code",
   "execution_count": 52,
   "id": "c9f56d35",
   "metadata": {
    "ExecuteTime": {
     "end_time": "2022-03-05T08:15:20.192007Z",
     "start_time": "2022-03-05T08:15:20.170734Z"
    }
   },
   "outputs": [
    {
     "data": {
      "text/html": [
       "<div>\n",
       "<style scoped>\n",
       "    .dataframe tbody tr th:only-of-type {\n",
       "        vertical-align: middle;\n",
       "    }\n",
       "\n",
       "    .dataframe tbody tr th {\n",
       "        vertical-align: top;\n",
       "    }\n",
       "\n",
       "    .dataframe thead th {\n",
       "        text-align: right;\n",
       "    }\n",
       "</style>\n",
       "<table border=\"1\" class=\"dataframe\">\n",
       "  <thead>\n",
       "    <tr style=\"text-align: right;\">\n",
       "      <th></th>\n",
       "      <th>City</th>\n",
       "      <th>Colors Reported</th>\n",
       "      <th>Shape Reported</th>\n",
       "      <th>State</th>\n",
       "      <th>Time</th>\n",
       "    </tr>\n",
       "  </thead>\n",
       "  <tbody>\n",
       "    <tr>\n",
       "      <th>3</th>\n",
       "      <td>Abilene</td>\n",
       "      <td>NaN</td>\n",
       "      <td>DISK</td>\n",
       "      <td>KS</td>\n",
       "      <td>6/1/1931 13:00</td>\n",
       "    </tr>\n",
       "    <tr>\n",
       "      <th>6654</th>\n",
       "      <td>Abilene</td>\n",
       "      <td>NaN</td>\n",
       "      <td>TRIANGLE</td>\n",
       "      <td>TX</td>\n",
       "      <td>9/1/1991 1:00</td>\n",
       "    </tr>\n",
       "    <tr>\n",
       "      <th>8357</th>\n",
       "      <td>Abilene</td>\n",
       "      <td>NaN</td>\n",
       "      <td>SPHERE</td>\n",
       "      <td>TX</td>\n",
       "      <td>7/15/1995 0:00</td>\n",
       "    </tr>\n",
       "    <tr>\n",
       "      <th>8783</th>\n",
       "      <td>Abilene</td>\n",
       "      <td>NaN</td>\n",
       "      <td>NaN</td>\n",
       "      <td>KS</td>\n",
       "      <td>10/14/1995 23:20</td>\n",
       "    </tr>\n",
       "    <tr>\n",
       "      <th>10883</th>\n",
       "      <td>Abilene</td>\n",
       "      <td>NaN</td>\n",
       "      <td>NaN</td>\n",
       "      <td>TX</td>\n",
       "      <td>10/19/1997 20:45</td>\n",
       "    </tr>\n",
       "  </tbody>\n",
       "</table>\n",
       "</div>"
      ],
      "text/plain": [
       "          City Colors Reported Shape Reported State              Time\n",
       "3      Abilene             NaN           DISK    KS    6/1/1931 13:00\n",
       "6654   Abilene             NaN       TRIANGLE    TX     9/1/1991 1:00\n",
       "8357   Abilene             NaN         SPHERE    TX    7/15/1995 0:00\n",
       "8783   Abilene             NaN            NaN    KS  10/14/1995 23:20\n",
       "10883  Abilene             NaN            NaN    TX  10/19/1997 20:45"
      ]
     },
     "execution_count": 52,
     "metadata": {},
     "output_type": "execute_result"
    }
   ],
   "source": [
    "ufo.loc[lambda df:ufo.City=='Abilene', :]"
   ]
  },
  {
   "cell_type": "code",
   "execution_count": null,
   "id": "732effaa",
   "metadata": {},
   "outputs": [],
   "source": []
  }
 ],
 "metadata": {
  "kernelspec": {
   "display_name": "Python 3 (ipykernel)",
   "language": "python",
   "name": "python3"
  },
  "language_info": {
   "codemirror_mode": {
    "name": "ipython",
    "version": 3
   },
   "file_extension": ".py",
   "mimetype": "text/x-python",
   "name": "python",
   "nbconvert_exporter": "python",
   "pygments_lexer": "ipython3",
   "version": "3.9.7"
  },
  "latex_envs": {
   "LaTeX_envs_menu_present": true,
   "autoclose": false,
   "autocomplete": true,
   "bibliofile": "biblio.bib",
   "cite_by": "apalike",
   "current_citInitial": 1,
   "eqLabelWithNumbers": true,
   "eqNumInitial": 1,
   "hotkeys": {
    "equation": "Ctrl-E",
    "itemize": "Ctrl-I"
   },
   "labels_anchors": false,
   "latex_user_defs": false,
   "report_style_numbering": false,
   "user_envs_cfg": false
  },
  "toc": {
   "base_numbering": 1,
   "nav_menu": {},
   "number_sections": true,
   "sideBar": true,
   "skip_h1_title": false,
   "title_cell": "Table of Contents",
   "title_sidebar": "Contents",
   "toc_cell": false,
   "toc_position": {},
   "toc_section_display": true,
   "toc_window_display": false
  },
  "varInspector": {
   "cols": {
    "lenName": 16,
    "lenType": 16,
    "lenVar": 40
   },
   "kernels_config": {
    "python": {
     "delete_cmd_postfix": "",
     "delete_cmd_prefix": "del ",
     "library": "var_list.py",
     "varRefreshCmd": "print(var_dic_list())"
    },
    "r": {
     "delete_cmd_postfix": ") ",
     "delete_cmd_prefix": "rm(",
     "library": "var_list.r",
     "varRefreshCmd": "cat(var_dic_list()) "
    }
   },
   "types_to_exclude": [
    "module",
    "function",
    "builtin_function_or_method",
    "instance",
    "_Feature"
   ],
   "window_display": false
  }
 },
 "nbformat": 4,
 "nbformat_minor": 5
}
